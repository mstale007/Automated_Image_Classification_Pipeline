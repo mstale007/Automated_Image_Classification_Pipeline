{
  "nbformat": 4,
  "nbformat_minor": 0,
  "metadata": {
    "colab": {
      "name": "COVID-XRAYS.ipynb",
      "provenance": [],
      "collapsed_sections": [],
      "authorship_tag": "ABX9TyP0UfR6hh2gS9naF4bZDY1K",
      "include_colab_link": true
    },
    "kernelspec": {
      "name": "python3",
      "display_name": "Python 3"
    },
    "accelerator": "GPU"
  },
  "cells": [
    {
      "cell_type": "markdown",
      "metadata": {
        "id": "view-in-github",
        "colab_type": "text"
      },
      "source": [
        "<a href=\"https://colab.research.google.com/github/mstale007/Automated_Image_Classification_Pipeline/blob/master/COVID_XRAYS.ipynb\" target=\"_parent\"><img src=\"https://colab.research.google.com/assets/colab-badge.svg\" alt=\"Open In Colab\"/></a>"
      ]
    },
    {
      "cell_type": "code",
      "metadata": {
        "id": "MqLA_uFFYN7W",
        "colab_type": "code",
        "colab": {
          "base_uri": "https://localhost:8080/",
          "height": 35
        },
        "outputId": "25ddf0b2-dad7-4940-a148-b076c7b740ff"
      },
      "source": [
        "import pandas as pd\n",
        "import numpy as np\n",
        "import os\n",
        "import keras\n",
        "import matplotlib.pyplot as plt\n",
        "from keras.layers import Dense,GlobalAveragePooling2D,Flatten, Dropout\n",
        "from keras.applications import MobileNet\n",
        "from keras.preprocessing import image\n",
        "from keras.applications.mobilenet import preprocess_input\n",
        "from keras.preprocessing.image import ImageDataGenerator\n",
        "from keras.models import Model\n",
        "from keras.optimizers import Adam"
      ],
      "execution_count": null,
      "outputs": [
        {
          "output_type": "stream",
          "text": [
            "Using TensorFlow backend.\n"
          ],
          "name": "stderr"
        }
      ]
    },
    {
      "cell_type": "code",
      "metadata": {
        "id": "_lzV9ErQYdeU",
        "colab_type": "code",
        "colab": {
          "base_uri": "https://localhost:8080/",
          "height": 124
        },
        "outputId": "ec52c91f-5d13-4949-b5ff-801251dc0eab"
      },
      "source": [
        "from google.colab import drive\n",
        "drive.mount('/gdrive')"
      ],
      "execution_count": null,
      "outputs": [
        {
          "output_type": "stream",
          "text": [
            "Go to this URL in a browser: https://accounts.google.com/o/oauth2/auth?client_id=947318989803-6bn6qk8qdgf4n4g3pfee6491hc0brc4i.apps.googleusercontent.com&redirect_uri=urn%3aietf%3awg%3aoauth%3a2.0%3aoob&response_type=code&scope=email%20https%3a%2f%2fwww.googleapis.com%2fauth%2fdocs.test%20https%3a%2f%2fwww.googleapis.com%2fauth%2fdrive%20https%3a%2f%2fwww.googleapis.com%2fauth%2fdrive.photos.readonly%20https%3a%2f%2fwww.googleapis.com%2fauth%2fpeopleapi.readonly\n",
            "\n",
            "Enter your authorization code:\n",
            "··········\n",
            "Mounted at /gdrive\n"
          ],
          "name": "stdout"
        }
      ]
    },
    {
      "cell_type": "code",
      "metadata": {
        "id": "YahTtbmpgMWc",
        "colab_type": "code",
        "colab": {
          "base_uri": "https://localhost:8080/",
          "height": 849
        },
        "outputId": "a4487355-5e61-442e-b03f-96a6803ad682"
      },
      "source": [
        "import keras.applications as ka\n",
        "dir(ka)"
      ],
      "execution_count": null,
      "outputs": [
        {
          "output_type": "execute_result",
          "data": {
            "text/plain": [
              "['DenseNet121',\n",
              " 'DenseNet169',\n",
              " 'DenseNet201',\n",
              " 'InceptionResNetV2',\n",
              " 'InceptionV3',\n",
              " 'MobileNet',\n",
              " 'MobileNetV2',\n",
              " 'NASNetLarge',\n",
              " 'NASNetMobile',\n",
              " 'ResNet101',\n",
              " 'ResNet101V2',\n",
              " 'ResNet152',\n",
              " 'ResNet152V2',\n",
              " 'ResNet50',\n",
              " 'ResNet50V2',\n",
              " 'VGG16',\n",
              " 'VGG19',\n",
              " 'Xception',\n",
              " '__builtins__',\n",
              " '__cached__',\n",
              " '__doc__',\n",
              " '__file__',\n",
              " '__loader__',\n",
              " '__name__',\n",
              " '__package__',\n",
              " '__path__',\n",
              " '__spec__',\n",
              " 'absolute_import',\n",
              " 'backend',\n",
              " 'densenet',\n",
              " 'division',\n",
              " 'inception_resnet_v2',\n",
              " 'inception_v3',\n",
              " 'keras_applications',\n",
              " 'keras_modules_injection',\n",
              " 'layers',\n",
              " 'mobilenet',\n",
              " 'mobilenet_v2',\n",
              " 'models',\n",
              " 'nasnet',\n",
              " 'print_function',\n",
              " 'resnet',\n",
              " 'resnet50',\n",
              " 'resnet_v2',\n",
              " 'utils',\n",
              " 'vgg16',\n",
              " 'vgg19',\n",
              " 'xception']"
            ]
          },
          "metadata": {
            "tags": []
          },
          "execution_count": 3
        }
      ]
    },
    {
      "cell_type": "code",
      "metadata": {
        "id": "pRVz8RKSgou7",
        "colab_type": "code",
        "colab": {}
      },
      "source": [
        "from keras.applications import DenseNet201\n",
        "from keras.applications import InceptionResNetV2\n",
        "from keras.applications import InceptionV3\n",
        "from keras.applications import MobileNetV2\n",
        "from keras.applications import NASNetLarge\n",
        "from keras.applications import NASNetMobile\n",
        "from keras.applications import ResNet101\n",
        "from keras.applications import ResNet152V2\n",
        "from keras.applications import VGG16\n",
        "from keras.applications import VGG19\n",
        "from keras.applications import Xception"
      ],
      "execution_count": null,
      "outputs": []
    },
    {
      "cell_type": "markdown",
      "metadata": {
        "id": "GA148ekrnuZ9",
        "colab_type": "text"
      },
      "source": [
        "# MobileNet"
      ]
    },
    {
      "cell_type": "code",
      "metadata": {
        "id": "tAI7czCfYaD7",
        "colab_type": "code",
        "colab": {
          "base_uri": "https://localhost:8080/",
          "height": 107
        },
        "outputId": "4be68600-32f4-4d89-8025-30ec4efcf9a9"
      },
      "source": [
        "base_model=MobileNet(weights='imagenet',include_top=False) #imports the mobilenet model and discards the last 1000 neuron layer."
      ],
      "execution_count": null,
      "outputs": [
        {
          "output_type": "stream",
          "text": [
            "/usr/local/lib/python3.6/dist-packages/keras_applications/mobilenet.py:207: UserWarning: `input_shape` is undefined or non-square, or `rows` is not in [128, 160, 192, 224]. Weights for input shape (224, 224) will be loaded as the default.\n",
            "  warnings.warn('`input_shape` is undefined or non-square, '\n"
          ],
          "name": "stderr"
        },
        {
          "output_type": "stream",
          "text": [
            "Downloading data from https://github.com/fchollet/deep-learning-models/releases/download/v0.6/mobilenet_1_0_224_tf_no_top.h5\n",
            "17227776/17225924 [==============================] - 1s 0us/step\n"
          ],
          "name": "stdout"
        }
      ]
    },
    {
      "cell_type": "code",
      "metadata": {
        "id": "lDZtBNLqcTiN",
        "colab_type": "code",
        "colab": {}
      },
      "source": [
        "x1=base_model.output\n",
        "x1=GlobalAveragePooling2D()(x1)\n",
        "#x1=Flatten(name=\"flatten\")(x1)\n",
        "x1=Dense(64,activation='relu')(x1) #we add dense layers so that the model can learn more complex1 functions and classify for better results.\n",
        "x1=Dropout(0.5)(x1)\n",
        "#x1=Dense(1024,activation='relu')(x1) #dense layer 2\n",
        "#x1=Dense(512,activation='relu')(x1) #dense layer 3\n",
        "preds=Dense(2,activation='softmax')(x1) #final layer with softmax activation"
      ],
      "execution_count": null,
      "outputs": []
    },
    {
      "cell_type": "code",
      "metadata": {
        "id": "GSMw9oCTc5PQ",
        "colab_type": "code",
        "colab": {}
      },
      "source": [
        "model=Model(inputs=base_model.input,outputs=preds)\n",
        "#specify the inputs\n",
        "#specify the outputs\n",
        "#now a model has been created based on our architecture"
      ],
      "execution_count": null,
      "outputs": []
    },
    {
      "cell_type": "code",
      "metadata": {
        "id": "NHLJkRKJdZk3",
        "colab_type": "code",
        "colab": {}
      },
      "source": [
        "for layer in model.layers[:20]:\n",
        "    layer.trainable=False\n",
        "for layer in model.layers[20:]:\n",
        "    layer.trainable=True\n",
        "# for layer in base_model.layers[:]:\n",
        "#     layer.trainable=False"
      ],
      "execution_count": null,
      "outputs": []
    },
    {
      "cell_type": "code",
      "metadata": {
        "id": "XtEsOhmfdgZY",
        "colab_type": "code",
        "colab": {
          "base_uri": "https://localhost:8080/",
          "height": 35
        },
        "outputId": "1d6bf684-12bd-41e6-aa44-d3178a5e7fdc"
      },
      "source": [
        "train_datagen=ImageDataGenerator(preprocessing_function=preprocess_input) #included in our dependencies\n",
        "\n",
        "train_generator=train_datagen.flow_from_directory('/gdrive/My Drive/COVID Dataset/data/train/', # this is where you specify the path to the main data folder\n",
        "                                                 target_size=(224,224),\n",
        "                                                 color_mode='rgb',\n",
        "                                                 batch_size=32,\n",
        "                                                 class_mode='categorical',\n",
        "                                                 shuffle=True)"
      ],
      "execution_count": null,
      "outputs": [
        {
          "output_type": "stream",
          "text": [
            "Found 8624 images belonging to 2 classes.\n"
          ],
          "name": "stdout"
        }
      ]
    },
    {
      "cell_type": "code",
      "metadata": {
        "id": "zy76wizbfy_G",
        "colab_type": "code",
        "colab": {
          "base_uri": "https://localhost:8080/",
          "height": 381
        },
        "outputId": "9d34c9e5-4fa4-4f0b-ab79-3c0117dade34"
      },
      "source": [
        "model.compile(optimizer='Adam',loss='categorical_crossentropy',metrics=['accuracy'])\n",
        "EPOCHS=10\n",
        "# Adam optimizer\n",
        "# loss function will be categorical cross entropy\n",
        "# evaluation metric will be accuracy\n",
        "\n",
        "step_size_train=train_generator.n//train_generator.batch_size\n",
        "history=model.fit_generator(generator=train_generator,\n",
        "                   steps_per_epoch=step_size_train,\n",
        "                   epochs=EPOCHS,verbose=1)\n",
        "print(history)"
      ],
      "execution_count": null,
      "outputs": [
        {
          "output_type": "stream",
          "text": [
            "Epoch 1/10\n",
            "269/269 [==============================] - 4064s 15s/step - loss: 0.0824 - accuracy: 0.9766\n",
            "Epoch 2/10\n",
            "269/269 [==============================] - 184s 685ms/step - loss: 0.0409 - accuracy: 0.9861\n",
            "Epoch 3/10\n",
            "269/269 [==============================] - 162s 601ms/step - loss: 0.0225 - accuracy: 0.9930\n",
            "Epoch 4/10\n",
            "269/269 [==============================] - 160s 596ms/step - loss: 0.0177 - accuracy: 0.9946\n",
            "Epoch 5/10\n",
            "269/269 [==============================] - 160s 596ms/step - loss: 0.0145 - accuracy: 0.9953\n",
            "Epoch 6/10\n",
            "269/269 [==============================] - 160s 596ms/step - loss: 0.0154 - accuracy: 0.9943\n",
            "Epoch 7/10\n",
            "269/269 [==============================] - 160s 595ms/step - loss: 0.0054 - accuracy: 0.9986\n",
            "Epoch 8/10\n",
            "269/269 [==============================] - 159s 592ms/step - loss: 0.0094 - accuracy: 0.9980\n",
            "Epoch 9/10\n",
            "269/269 [==============================] - 157s 585ms/step - loss: 0.0155 - accuracy: 0.9944\n",
            "Epoch 10/10\n",
            "269/269 [==============================] - 160s 596ms/step - loss: 0.0055 - accuracy: 0.9985\n",
            "<keras.callbacks.callbacks.History object at 0x7fb0397a1ac8>\n"
          ],
          "name": "stdout"
        }
      ]
    },
    {
      "cell_type": "code",
      "metadata": {
        "id": "LrN7APESHe_S",
        "colab_type": "code",
        "colab": {
          "base_uri": "https://localhost:8080/",
          "height": 35
        },
        "outputId": "8af787f9-c3a2-4e55-a6ca-4a67e232cfc7"
      },
      "source": [
        "test_datagen=ImageDataGenerator(preprocessing_function=preprocess_input) #included in our dependencies\n",
        "\n",
        "test_generator=train_datagen.flow_from_directory('/gdrive/My Drive/COVID Dataset/data/test/', # this is where you specify the path to the main data folder\n",
        "                                                 target_size=(224,224),\n",
        "                                                 color_mode='rgb',\n",
        "                                                 batch_size=32,\n",
        "                                                 class_mode='categorical',\n",
        "                                                 shuffle=True)"
      ],
      "execution_count": null,
      "outputs": [
        {
          "output_type": "stream",
          "text": [
            "Found 1005 images belonging to 2 classes.\n"
          ],
          "name": "stdout"
        }
      ]
    },
    {
      "cell_type": "code",
      "metadata": {
        "id": "UVEkLShGlJHD",
        "colab_type": "code",
        "colab": {
          "base_uri": "https://localhost:8080/",
          "height": 35
        },
        "outputId": "83b33eb4-96a2-459d-c7e4-561c38df6a19"
      },
      "source": [
        "scores=model.evaluate_generator(generator=test_generator,verbose=1)"
      ],
      "execution_count": null,
      "outputs": [
        {
          "output_type": "stream",
          "text": [
            "32/32 [==============================] - 439s 14s/step\n"
          ],
          "name": "stdout"
        }
      ]
    },
    {
      "cell_type": "code",
      "metadata": {
        "id": "0cI_wfJJeXF2",
        "colab_type": "code",
        "colab": {
          "base_uri": "https://localhost:8080/",
          "height": 243
        },
        "outputId": "eda38f3d-7527-4a03-90d0-bdef66133fbe"
      },
      "source": [
        "from sklearn.metrics import classification_report, confusion_matrix\n",
        "Y_pred = model.predict_generator(test_generator)\n",
        "y_pred_MobileNet = np.argmax(Y_pred,axis=1)\n",
        "print('Confusion Matrix')\n",
        "print(confusion_matrix(test_generator.classes, y_pred_MobileNet))\n",
        "print('Classification Report')\n",
        "target_names = ['Normal', 'Positive']\n",
        "print(classification_report(test_generator.classes, y_pred_MobileNet, target_names=target_names))"
      ],
      "execution_count": null,
      "outputs": [
        {
          "output_type": "stream",
          "text": [
            "Confusion Matrix\n",
            "[[  1  99]\n",
            " [ 40 865]]\n",
            "Classification Report\n",
            "              precision    recall  f1-score   support\n",
            "\n",
            "      Normal       0.02      0.01      0.01       100\n",
            "    Positive       0.90      0.96      0.93       905\n",
            "\n",
            "    accuracy                           0.86      1005\n",
            "   macro avg       0.46      0.48      0.47      1005\n",
            "weighted avg       0.81      0.86      0.83      1005\n",
            "\n"
          ],
          "name": "stdout"
        }
      ]
    },
    {
      "cell_type": "code",
      "metadata": {
        "id": "L0wJLEWHcXk3",
        "colab_type": "code",
        "colab": {
          "base_uri": "https://localhost:8080/"
        },
        "outputId": "c4f7974f-00e2-4b9c-e122-057cb028c457"
      },
      "source": [
        "print(history.history.keys())"
      ],
      "execution_count": null,
      "outputs": [
        {
          "output_type": "stream",
          "text": [
            "dict_keys(['loss', 'accuracy'])\n"
          ],
          "name": "stdout"
        }
      ]
    },
    {
      "cell_type": "code",
      "metadata": {
        "id": "yQ3TXFUjaOhk",
        "colab_type": "code",
        "colab": {
          "base_uri": "https://localhost:8080/"
        },
        "outputId": "f651e740-86bf-4996-d158-3b9128a38471"
      },
      "source": [
        "N = EPOCHS\n",
        "plt.style.use(\"ggplot\")\n",
        "plt.figure()\n",
        "plt.plot(np.arange(0, N), history.history[\"loss\"], label=\"train_loss\")\n",
        "#plt.plot(np.arange(0, N), history.history[\"val_loss\"], label=\"val_loss\")\n",
        "plt.plot(np.arange(0, N), history.history[\"accuracy\"], label=\"train_acc\")\n",
        "#plt.plot(np.arange(0, N), history.history[\"val_accuracy\"], label=\"val_acc\")\n",
        "plt.title(\"COVID-19 Dataset\")\n",
        "plt.xlabel(\"Epoch #\")\n",
        "plt.ylabel(\"Loss/Accuracy\")\n",
        "plt.legend(loc=\"lower left\")\n",
        "plt.savefig(\"MobileNet.png\")"
      ],
      "execution_count": null,
      "outputs": [
        {
          "output_type": "display_data",
          "data": {
            "image/png": "[encoded data removed]",
            "text/plain": [
              "<Figure size 432x288 with 1 Axes>"
            ]
          },
          "metadata": {
            "tags": []
          }
        }
      ]
    },
    {
      "cell_type": "code",
      "metadata": {
        "id": "fxt-xtEUREww",
        "colab_type": "code",
        "colab": {
          "base_uri": "https://localhost:8080/"
        },
        "outputId": "c0d0e276-e020-4b0b-b2a2-446becde84d5"
      },
      "source": [
        "print(\"Accuracy = \", scores[1])"
      ],
      "execution_count": null,
      "outputs": [
        {
          "output_type": "stream",
          "text": [
            "Accuracy =  0.937313437461853\n"
          ],
          "name": "stdout"
        }
      ]
    },
    {
      "cell_type": "markdown",
      "metadata": {
        "id": "QWf8YO9qT6-G",
        "colab_type": "text"
      },
      "source": [
        "# DenseNet201"
      ]
    },
    {
      "cell_type": "code",
      "metadata": {
        "id": "CSuWai14X8j_",
        "colab_type": "code",
        "colab": {
          "base_uri": "https://localhost:8080/",
          "height": 696
        },
        "outputId": "2e07f5ab-d927-4410-e2d5-7c5f6f87b10f"
      },
      "source": [
        "base_model=DenseNet201(weights='imagenet',include_top=False) #imports the mobilenet model and discards the last 1000 neuron layer.\n",
        "x1=base_model.output\n",
        "x1=GlobalAveragePooling2D(pool_size=(4,4))(x1)\n",
        "x1=Flatten(name=\"flatten\")(x1)\n",
        "x1=Dense(64,activation='relu')(x1) #we add dense layers so that the model can learn more complex1 functions and classify for better results.\n",
        "x1=Dropout(0.5)(x1)\n",
        "#x1=Dense(1024,activation='relu')(x1) #dense layer 2\n",
        "#x1=Dense(512,activation='relu')(x1) #dense layer 3\n",
        "preds=Dense(2,activation='softmax')(x1) #final layer with softmax activation\n",
        "\n",
        "# x1=base_model.output\n",
        "# x1=GlobalAveragePooling2D()(x1)\n",
        "# x1=Dense(1024,activation='relu')(x1) #we add dense layers so that the model can learn more complex1 functions and classify for better results.\n",
        "# x1=Dense(1024,activation='relu')(x1) #dense layer 2\n",
        "# x1=Dense(512,activation='relu')(x1) #dense layer 3\n",
        "# preds=Dense(2,activation='softmax')(x1) #final layer with softmax activation\n",
        "\n",
        "model=Model(inputs=base_model.input,outputs=preds)\n",
        "#specify the inputs\n",
        "#specify the outputs\n",
        "#now a model has been created based on our architecture\n",
        "\n",
        "for layer in model.layers[:20]:\n",
        "    layer.trainable=False\n",
        "for layer in model.layers[20:]:\n",
        "    layer.trainable=True\n",
        "\n",
        "train_datagen=ImageDataGenerator(preprocessing_function=preprocess_input) #included in our dependencies\n",
        "\n",
        "train_generator=train_datagen.flow_from_directory('/gdrive/My Drive/COVID Dataset/Train/', # this is where you specify the path to the main data folder\n",
        "                                                 target_size=(224,224),\n",
        "                                                 color_mode='rgb',\n",
        "                                                 batch_size=32,\n",
        "                                                 class_mode='categorical',\n",
        "                                                 shuffle=True)\n",
        "model.compile(optimizer='Adam',loss='categorical_crossentropy',metrics=['accuracy'])\n",
        "# Adam optimizer\n",
        "# loss function will be categorical cross entropy\n",
        "# evaluation metric will be accuracy\n",
        "\n",
        "step_size_train=train_generator.n//train_generator.batch_size\n",
        "history=model.fit_generator(generator=train_generator,\n",
        "                   steps_per_epoch=step_size_train,\n",
        "                   epochs=10,verbose=1)\n",
        "test_datagen=ImageDataGenerator(preprocessing_function=preprocess_input) #included in our dependencies\n",
        "\n",
        "test_generator=train_datagen.flow_from_directory('/gdrive/My Drive/COVID Dataset/Test/', # this is where you specify the path to the main data folder\n",
        "                                                 target_size=(224,224),\n",
        "                                                 color_mode='rgb',\n",
        "                                                 batch_size=32,\n",
        "                                                 class_mode='categorical',\n",
        "                                                 shuffle=True)\n",
        "scores=model.evaluate_generator(generator=test_generator,verbose=1)\n",
        "from sklearn.metrics import classification_report, confusion_matrix\n",
        "Y_pred = model.predict_generator(test_generator)\n",
        "y_pred_DenseNet201 = np.argmax(Y_pred,axis=1)\n",
        "print('Confusion Matrix')\n",
        "print(confusion_matrix(test_generator.classes, y_pred_DenseNet201))\n",
        "print('Classification Report')\n",
        "target_names = ['Normal', 'Positive']\n",
        "print(classification_report(test_generator.classes, y_pred_DenseNet201, target_names=target_names))"
      ],
      "execution_count": null,
      "outputs": [
        {
          "output_type": "stream",
          "text": [
            "Downloading data from https://github.com/keras-team/keras-applications/releases/download/densenet/densenet201_weights_tf_dim_ordering_tf_kernels_notop.h5\n",
            "74842112/74836368 [==============================] - 7s 0us/step\n",
            "Found 348 images belonging to 2 classes.\n",
            "Epoch 1/10\n",
            "10/10 [==============================] - 122s 12s/step - loss: 0.5536 - accuracy: 0.8250\n",
            "Epoch 2/10\n",
            "10/10 [==============================] - 30s 3s/step - loss: 0.0187 - accuracy: 0.9936\n",
            "Epoch 3/10\n",
            "10/10 [==============================] - 23s 2s/step - loss: 4.7462e-04 - accuracy: 1.0000\n",
            "Epoch 4/10\n",
            "10/10 [==============================] - 23s 2s/step - loss: 0.0302 - accuracy: 0.9906\n",
            "Epoch 5/10\n",
            "10/10 [==============================] - 23s 2s/step - loss: 0.0857 - accuracy: 0.9872\n",
            "Epoch 6/10\n",
            "10/10 [==============================] - 23s 2s/step - loss: 0.0066 - accuracy: 1.0000\n",
            "Epoch 7/10\n",
            "10/10 [==============================] - 23s 2s/step - loss: 0.0015 - accuracy: 1.0000\n",
            "Epoch 8/10\n",
            "10/10 [==============================] - 23s 2s/step - loss: 3.0352e-04 - accuracy: 1.0000\n",
            "Epoch 9/10\n",
            "10/10 [==============================] - 23s 2s/step - loss: 1.6279e-04 - accuracy: 1.0000\n",
            "Epoch 10/10\n",
            "10/10 [==============================] - 23s 2s/step - loss: 1.0099e-04 - accuracy: 1.0000\n",
            "Found 59 images belonging to 2 classes.\n",
            "2/2 [==============================] - 12s 6s/step\n",
            "Confusion Matrix\n",
            "[[10  7]\n",
            " [15 27]]\n",
            "Classification Report\n",
            "              precision    recall  f1-score   support\n",
            "\n",
            "      Normal       0.40      0.59      0.48        17\n",
            "    Positive       0.79      0.64      0.71        42\n",
            "\n",
            "    accuracy                           0.63        59\n",
            "   macro avg       0.60      0.62      0.59        59\n",
            "weighted avg       0.68      0.63      0.64        59\n",
            "\n"
          ],
          "name": "stdout"
        }
      ]
    },
    {
      "cell_type": "markdown",
      "metadata": {
        "id": "s3teQvEjT_rc",
        "colab_type": "text"
      },
      "source": [
        "# InceptionResNetV2"
      ]
    },
    {
      "cell_type": "code",
      "metadata": {
        "id": "wfVVELSQSuuN",
        "colab_type": "code",
        "colab": {
          "base_uri": "https://localhost:8080/",
          "height": 696
        },
        "outputId": "42e5e13c-8542-499e-d5b3-d8eaba95ff7b"
      },
      "source": [
        "base_model=InceptionResNetV2(weights='imagenet',include_top=False) #imports the mobilenet model and discards the last 1000 neuron layer.\n",
        "x1=base_model.output\n",
        "x1=GlobalAveragePooling2D(pool_size=(4,4))(x1)\n",
        "x1=Flatten(name=\"flatten\")(x1)\n",
        "x1=Dense(64,activation='relu')(x1) #we add dense layers so that the model can learn more complex1 functions and classify for better results.\n",
        "x1=Dropout(0.5)(x1)\n",
        "#x1=Dense(1024,activation='relu')(x1) #dense layer 2\n",
        "#x1=Dense(512,activation='relu')(x1) #dense layer 3\n",
        "preds=Dense(2,activation='softmax')(x1) #final layer with softmax activation\n",
        "\n",
        "# x1=base_model.output\n",
        "# x1=GlobalAveragePooling2D()(x1)\n",
        "# x1=Dense(1024,activation='relu')(x1) #we add dense layers so that the model can learn more complex1 functions and classify for better results.\n",
        "# x1=Dense(1024,activation='relu')(x1) #dense layer 2\n",
        "# x1=Dense(512,activation='relu')(x1) #dense layer 3\n",
        "# preds=Dense(2,activation='softmax')(x1) #final layer with softmax activation\n",
        "\n",
        "model=Model(inputs=base_model.input,outputs=preds)\n",
        "#specify the inputs\n",
        "#specify the outputs\n",
        "#now a model has been created based on our architecture\n",
        "\n",
        "for layer in model.layers[:20]:\n",
        "    layer.trainable=False\n",
        "for layer in model.layers[20:]:\n",
        "    layer.trainable=True\n",
        "\n",
        "train_datagen=ImageDataGenerator(preprocessing_function=preprocess_input) #included in our dependencies\n",
        "\n",
        "train_generator=train_datagen.flow_from_directory('/gdrive/My Drive/COVID Dataset/Train/', # this is where you specify the path to the main data folder\n",
        "                                                 target_size=(224,224),\n",
        "                                                 color_mode='rgb',\n",
        "                                                 batch_size=32,\n",
        "                                                 class_mode='categorical',\n",
        "                                                 shuffle=True)\n",
        "model.compile(optimizer='Adam',loss='categorical_crossentropy',metrics=['accuracy'])\n",
        "# Adam optimizer\n",
        "# loss function will be categorical cross entropy\n",
        "# evaluation metric will be accuracy\n",
        "\n",
        "step_size_train=train_generator.n//train_generator.batch_size\n",
        "history=model.fit_generator(generator=train_generator,\n",
        "                   steps_per_epoch=step_size_train,\n",
        "                   epochs=10,verbose=1)\n",
        "test_datagen=ImageDataGenerator(preprocessing_function=preprocess_input) #included in our dependencies\n",
        "\n",
        "test_generator=train_datagen.flow_from_directory('/gdrive/My Drive/COVID Dataset/Test/', # this is where you specify the path to the main data folder\n",
        "                                                 target_size=(224,224),\n",
        "                                                 color_mode='rgb',\n",
        "                                                 batch_size=32,\n",
        "                                                 class_mode='categorical',\n",
        "                                                 shuffle=True)\n",
        "scores=model.evaluate_generator(generator=test_generator,verbose=1)\n",
        "from sklearn.metrics import classification_report, confusion_matrix\n",
        "Y_pred = model.predict_generator(test_generator)\n",
        "y_pred_InceptionResNetV2 = np.argmax(Y_pred,axis=1)\n",
        "print('Confusion Matrix')\n",
        "print(confusion_matrix(test_generator.classes, y_pred_InceptionResNetV2))\n",
        "print('Classification Report')\n",
        "target_names = ['Normal', 'Positive']\n",
        "print(classification_report(test_generator.classes, y_pred_InceptionResNetV2, target_names=target_names))"
      ],
      "execution_count": null,
      "outputs": [
        {
          "output_type": "stream",
          "text": [
            "Downloading data from https://github.com/fchollet/deep-learning-models/releases/download/v0.7/inception_resnet_v2_weights_tf_dim_ordering_tf_kernels_notop.h5\n",
            "219062272/219055592 [==============================] - 18s 0us/step\n",
            "Found 348 images belonging to 2 classes.\n",
            "Epoch 1/10\n",
            "10/10 [==============================] - 98s 10s/step - loss: 0.3566 - accuracy: 0.8703\n",
            "Epoch 2/10\n",
            "10/10 [==============================] - 18s 2s/step - loss: 0.0275 - accuracy: 0.9873\n",
            "Epoch 3/10\n",
            "10/10 [==============================] - 18s 2s/step - loss: 0.0147 - accuracy: 0.9937\n",
            "Epoch 4/10\n",
            "10/10 [==============================] - 18s 2s/step - loss: 0.0458 - accuracy: 0.9840\n",
            "Epoch 5/10\n",
            "10/10 [==============================] - 18s 2s/step - loss: 0.0056 - accuracy: 1.0000\n",
            "Epoch 6/10\n",
            "10/10 [==============================] - 17s 2s/step - loss: 9.4629e-05 - accuracy: 1.0000\n",
            "Epoch 7/10\n",
            "10/10 [==============================] - 18s 2s/step - loss: 0.0014 - accuracy: 1.0000\n",
            "Epoch 8/10\n",
            "10/10 [==============================] - 18s 2s/step - loss: 0.0092 - accuracy: 0.9936\n",
            "Epoch 9/10\n",
            "10/10 [==============================] - 18s 2s/step - loss: 0.0056 - accuracy: 0.9969\n",
            "Epoch 10/10\n",
            "10/10 [==============================] - 18s 2s/step - loss: 0.0153 - accuracy: 0.9937\n",
            "Found 59 images belonging to 2 classes.\n",
            "2/2 [==============================] - 10s 5s/step\n",
            "Confusion Matrix\n",
            "[[ 4 13]\n",
            " [13 29]]\n",
            "Classification Report\n",
            "              precision    recall  f1-score   support\n",
            "\n",
            "      Normal       0.24      0.24      0.24        17\n",
            "    Positive       0.69      0.69      0.69        42\n",
            "\n",
            "    accuracy                           0.56        59\n",
            "   macro avg       0.46      0.46      0.46        59\n",
            "weighted avg       0.56      0.56      0.56        59\n",
            "\n"
          ],
          "name": "stdout"
        }
      ]
    },
    {
      "cell_type": "markdown",
      "metadata": {
        "id": "kxiJ54dpUEoK",
        "colab_type": "text"
      },
      "source": [
        "# InceptionV3"
      ]
    },
    {
      "cell_type": "code",
      "metadata": {
        "id": "jaBBD3ufSlYS",
        "colab_type": "code",
        "colab": {
          "base_uri": "https://localhost:8080/",
          "height": 696
        },
        "outputId": "02a79979-6e4e-4c4a-c09a-5576e4782dc7"
      },
      "source": [
        "base_model=InceptionV3(weights='imagenet',include_top=False) #imports the mobilenet model and discards the last 1000 neuron layer.\n",
        "x1=base_model.output\n",
        "x1=GlobalAveragePooling2D(pool_size=(4,4))(x1)\n",
        "x1=Flatten(name=\"flatten\")(x1)\n",
        "x1=Dense(64,activation='relu')(x1) #we add dense layers so that the model can learn more complex1 functions and classify for better results.\n",
        "x1=Dropout(0.5)(x1)\n",
        "#x1=Dense(1024,activation='relu')(x1) #dense layer 2\n",
        "#x1=Dense(512,activation='relu')(x1) #dense layer 3\n",
        "preds=Dense(2,activation='softmax')(x1) #final layer with softmax activation\n",
        "\n",
        "# x1=base_model.output\n",
        "# x1=GlobalAveragePooling2D()(x1)\n",
        "# x1=Dense(1024,activation='relu')(x1) #we add dense layers so that the model can learn more complex1 functions and classify for better results.\n",
        "# x1=Dense(1024,activation='relu')(x1) #dense layer 2\n",
        "# x1=Dense(512,activation='relu')(x1) #dense layer 3\n",
        "# preds=Dense(2,activation='softmax')(x1) #final layer with softmax activation\n",
        "\n",
        "model=Model(inputs=base_model.input,outputs=preds)\n",
        "#specify the inputs\n",
        "#specify the outputs\n",
        "#now a model has been created based on our architecture\n",
        "\n",
        "for layer in model.layers[:20]:\n",
        "    layer.trainable=False\n",
        "for layer in model.layers[20:]:\n",
        "    layer.trainable=True\n",
        "\n",
        "train_datagen=ImageDataGenerator(preprocessing_function=preprocess_input) #included in our dependencies\n",
        "\n",
        "train_generator=train_datagen.flow_from_directory('/gdrive/My Drive/COVID Dataset/Train/', # this is where you specify the path to the main data folder\n",
        "                                                 target_size=(224,224),\n",
        "                                                 color_mode='rgb',\n",
        "                                                 batch_size=32,\n",
        "                                                 class_mode='categorical',\n",
        "                                                 shuffle=True)\n",
        "model.compile(optimizer='Adam',loss='categorical_crossentropy',metrics=['accuracy'])\n",
        "# Adam optimizer\n",
        "# loss function will be categorical cross entropy\n",
        "# evaluation metric will be accuracy\n",
        "\n",
        "step_size_train=train_generator.n//train_generator.batch_size\n",
        "history=model.fit_generator(generator=train_generator,\n",
        "                   steps_per_epoch=step_size_train,\n",
        "                   epochs=10,verbose=1)\n",
        "test_datagen=ImageDataGenerator(preprocessing_function=preprocess_input) #included in our dependencies\n",
        "\n",
        "test_generator=train_datagen.flow_from_directory('/gdrive/My Drive/COVID Dataset/Test/', # this is where you specify the path to the main data folder\n",
        "                                                 target_size=(224,224),\n",
        "                                                 color_mode='rgb',\n",
        "                                                 batch_size=32,\n",
        "                                                 class_mode='categorical',\n",
        "                                                 shuffle=True)\n",
        "scores=model.evaluate_generator(generator=test_generator,verbose=1)\n",
        "from sklearn.metrics import classification_report, confusion_matrix\n",
        "Y_pred = model.predict_generator(test_generator)\n",
        "y_pred_InceptionV3 = np.argmax(Y_pred,axis=1)\n",
        "print('Confusion Matrix')\n",
        "print(confusion_matrix(test_generator.classes, y_pred_InceptionV3))\n",
        "print('Classification Report')\n",
        "target_names = ['Normal', 'Positive']\n",
        "print(classification_report(test_generator.classes, y_pred_InceptionV3, target_names=target_names))"
      ],
      "execution_count": null,
      "outputs": [
        {
          "output_type": "stream",
          "text": [
            "Downloading data from https://github.com/fchollet/deep-learning-models/releases/download/v0.5/inception_v3_weights_tf_dim_ordering_tf_kernels_notop.h5\n",
            "87916544/87910968 [==============================] - 8s 0us/step\n",
            "Found 348 images belonging to 2 classes.\n",
            "Epoch 1/10\n",
            "10/10 [==============================] - 38s 4s/step - loss: 0.7775 - accuracy: 0.7911\n",
            "Epoch 2/10\n",
            "10/10 [==============================] - 12s 1s/step - loss: 0.0547 - accuracy: 0.9810\n",
            "Epoch 3/10\n",
            "10/10 [==============================] - 14s 1s/step - loss: 0.0144 - accuracy: 0.9937\n",
            "Epoch 4/10\n",
            "10/10 [==============================] - 13s 1s/step - loss: 0.0036 - accuracy: 1.0000\n",
            "Epoch 5/10\n",
            "10/10 [==============================] - 13s 1s/step - loss: 0.0263 - accuracy: 0.9936\n",
            "Epoch 6/10\n",
            "10/10 [==============================] - 13s 1s/step - loss: 0.0161 - accuracy: 0.9968\n",
            "Epoch 7/10\n",
            "10/10 [==============================] - 14s 1s/step - loss: 0.0235 - accuracy: 0.9937\n",
            "Epoch 8/10\n",
            "10/10 [==============================] - 12s 1s/step - loss: 0.0623 - accuracy: 0.9873\n",
            "Epoch 9/10\n",
            "10/10 [==============================] - 14s 1s/step - loss: 0.1289 - accuracy: 0.9563\n",
            "Epoch 10/10\n",
            "10/10 [==============================] - 13s 1s/step - loss: 0.0224 - accuracy: 0.9968\n",
            "Found 59 images belonging to 2 classes.\n",
            "2/2 [==============================] - 6s 3s/step\n",
            "Confusion Matrix\n",
            "[[ 5 12]\n",
            " [12 30]]\n",
            "Classification Report\n",
            "              precision    recall  f1-score   support\n",
            "\n",
            "      Normal       0.29      0.29      0.29        17\n",
            "    Positive       0.71      0.71      0.71        42\n",
            "\n",
            "    accuracy                           0.59        59\n",
            "   macro avg       0.50      0.50      0.50        59\n",
            "weighted avg       0.59      0.59      0.59        59\n",
            "\n"
          ],
          "name": "stdout"
        }
      ]
    },
    {
      "cell_type": "markdown",
      "metadata": {
        "id": "XqfVcLA4UIlj",
        "colab_type": "text"
      },
      "source": [
        "# MobileNetV2"
      ]
    },
    {
      "cell_type": "code",
      "metadata": {
        "id": "vvy2-PyrTmP1",
        "colab_type": "code",
        "colab": {
          "base_uri": "https://localhost:8080/",
          "height": 731
        },
        "outputId": "6a9e8a78-3da7-4415-9f0c-04d4d1fac9b1"
      },
      "source": [
        "base_model=MobileNetV2(weights='imagenet',include_top=False) #imports the mobilenet model and discards the last 1000 neuron layer.\n",
        "x1=base_model.output\n",
        "x1=GlobalAveragePooling2D(pool_size=(4,4))(x1)\n",
        "x1=Flatten(name=\"flatten\")(x1)\n",
        "x1=Dense(64,activation='relu')(x1) #we add dense layers so that the model can learn more complex1 functions and classify for better results.\n",
        "x1=Dropout(0.5)(x1)\n",
        "#x1=Dense(1024,activation='relu')(x1) #dense layer 2\n",
        "#x1=Dense(512,activation='relu')(x1) #dense layer 3\n",
        "preds=Dense(2,activation='softmax')(x1) #final layer with softmax activation\n",
        "\n",
        "# x1=base_model.output\n",
        "# x1=GlobalAveragePooling2D()(x1)\n",
        "# x1=Dense(1024,activation='relu')(x1) #we add dense layers so that the model can learn more complex1 functions and classify for better results.\n",
        "# x1=Dense(1024,activation='relu')(x1) #dense layer 2\n",
        "# x1=Dense(512,activation='relu')(x1) #dense layer 3\n",
        "# preds=Dense(2,activation='softmax')(x1) #final layer with softmax activation\n",
        "\n",
        "model=Model(inputs=base_model.input,outputs=preds)\n",
        "#specify the inputs\n",
        "#specify the outputs\n",
        "#now a model has been created based on our architecture\n",
        "\n",
        "for layer in model.layers[:20]:\n",
        "    layer.trainable=False\n",
        "for layer in model.layers[20:]:\n",
        "    layer.trainable=True\n",
        "\n",
        "train_datagen=ImageDataGenerator(preprocessing_function=preprocess_input) #included in our dependencies\n",
        "\n",
        "train_generator=train_datagen.flow_from_directory('/gdrive/My Drive/COVID Dataset/Train/', # this is where you specify the path to the main data folder\n",
        "                                                 target_size=(224,224),\n",
        "                                                 color_mode='rgb',\n",
        "                                                 batch_size=32,\n",
        "                                                 class_mode='categorical',\n",
        "                                                 shuffle=True)\n",
        "model.compile(optimizer='Adam',loss='categorical_crossentropy',metrics=['accuracy'])\n",
        "# Adam optimizer\n",
        "# loss function will be categorical cross entropy\n",
        "# evaluation metric will be accuracy\n",
        "\n",
        "step_size_train=train_generator.n//train_generator.batch_size\n",
        "history=model.fit_generator(generator=train_generator,\n",
        "                   steps_per_epoch=step_size_train,\n",
        "                   epochs=10,verbose=1)\n",
        "test_datagen=ImageDataGenerator(preprocessing_function=preprocess_input) #included in our dependencies\n",
        "\n",
        "test_generator=train_datagen.flow_from_directory('/gdrive/My Drive/COVID Dataset/Test/', # this is where you specify the path to the main data folder\n",
        "                                                 target_size=(224,224),\n",
        "                                                 color_mode='rgb',\n",
        "                                                 batch_size=32,\n",
        "                                                 class_mode='categorical',\n",
        "                                                 shuffle=True)\n",
        "scores=model.evaluate_generator(generator=test_generator,verbose=1)\n",
        "from sklearn.metrics import classification_report, confusion_matrix\n",
        "Y_pred = model.predict_generator(test_generator)\n",
        "y_pred_MobileNetV2 = np.argmax(Y_pred,axis=1)\n",
        "print('Confusion Matrix')\n",
        "print(confusion_matrix(test_generator.classes, y_pred_MobileNetV2))\n",
        "print('Classification Report')\n",
        "target_names = ['Normal', 'Positive']\n",
        "print(classification_report(test_generator.classes, y_pred_MobileNetV2, target_names=target_names))"
      ],
      "execution_count": null,
      "outputs": [
        {
          "output_type": "stream",
          "text": [
            "/usr/local/lib/python3.6/dist-packages/keras_applications/mobilenet_v2.py:294: UserWarning: `input_shape` is undefined or non-square, or `rows` is not in [96, 128, 160, 192, 224]. Weights for input shape (224, 224) will be loaded as the default.\n",
            "  warnings.warn('`input_shape` is undefined or non-square, '\n"
          ],
          "name": "stderr"
        },
        {
          "output_type": "stream",
          "text": [
            "Downloading data from https://github.com/JonathanCMitchell/mobilenet_v2_keras/releases/download/v1.1/mobilenet_v2_weights_tf_dim_ordering_tf_kernels_1.0_224_no_top.h5\n",
            "9412608/9406464 [==============================] - 2s 0us/step\n",
            "Found 348 images belonging to 2 classes.\n",
            "Epoch 1/10\n",
            "10/10 [==============================] - 25s 3s/step - loss: 0.2728 - accuracy: 0.8323\n",
            "Epoch 2/10\n",
            "10/10 [==============================] - 11s 1s/step - loss: 0.0450 - accuracy: 0.9968\n",
            "Epoch 3/10\n",
            "10/10 [==============================] - 13s 1s/step - loss: 0.0468 - accuracy: 0.9873\n",
            "Epoch 4/10\n",
            "10/10 [==============================] - 12s 1s/step - loss: 0.0415 - accuracy: 0.9844\n",
            "Epoch 5/10\n",
            "10/10 [==============================] - 12s 1s/step - loss: 0.0037 - accuracy: 0.9968\n",
            "Epoch 6/10\n",
            "10/10 [==============================] - 12s 1s/step - loss: 0.0052 - accuracy: 1.0000\n",
            "Epoch 7/10\n",
            "10/10 [==============================] - 12s 1s/step - loss: 0.0215 - accuracy: 0.9937\n",
            "Epoch 8/10\n",
            "10/10 [==============================] - 12s 1s/step - loss: 0.0459 - accuracy: 0.9937\n",
            "Epoch 9/10\n",
            "10/10 [==============================] - 12s 1s/step - loss: 0.0421 - accuracy: 0.9937\n",
            "Epoch 10/10\n",
            "10/10 [==============================] - 13s 1s/step - loss: 0.0114 - accuracy: 0.9968\n",
            "Found 59 images belonging to 2 classes.\n",
            "2/2 [==============================] - 4s 2s/step\n",
            "Confusion Matrix\n",
            "[[ 6 11]\n",
            " [14 28]]\n",
            "Classification Report\n",
            "              precision    recall  f1-score   support\n",
            "\n",
            "      Normal       0.30      0.35      0.32        17\n",
            "    Positive       0.72      0.67      0.69        42\n",
            "\n",
            "    accuracy                           0.58        59\n",
            "   macro avg       0.51      0.51      0.51        59\n",
            "weighted avg       0.60      0.58      0.59        59\n",
            "\n"
          ],
          "name": "stdout"
        }
      ]
    },
    {
      "cell_type": "markdown",
      "metadata": {
        "id": "QTD8PfOBUPpR",
        "colab_type": "text"
      },
      "source": [
        "# NASNetLarge"
      ]
    },
    {
      "cell_type": "code",
      "metadata": {
        "id": "aNFSWJzfTxW4",
        "colab_type": "code",
        "colab": {
          "base_uri": "https://localhost:8080/",
          "height": 539
        },
        "outputId": "f3369d1a-fbda-49bc-e08c-22e6ca5b5e21"
      },
      "source": [
        "base_model=NASNetLarge(weights='imagenet',include_top=False) #imports the mobilenet model and discards the last 1000 neuron layer.\n",
        "x1=base_model.output\n",
        "x1=GlobalAveragePooling2D(pool_size=(4,4))(x1)\n",
        "x1=Flatten(name=\"flatten\")(x1)\n",
        "x1=Dense(64,activation='relu')(x1) #we add dense layers so that the model can learn more complex1 functions and classify for better results.\n",
        "x1=Dropout(0.5)(x1)\n",
        "#x1=Dense(1024,activation='relu')(x1) #dense layer 2\n",
        "#x1=Dense(512,activation='relu')(x1) #dense layer 3\n",
        "preds=Dense(2,activation='softmax')(x1) #final layer with softmax activation\n",
        "\n",
        "# x1=base_model.output\n",
        "# x1=GlobalAveragePooling2D()(x1)\n",
        "# x1=Dense(1024,activation='relu')(x1) #we add dense layers so that the model can learn more complex1 functions and classify for better results.\n",
        "# x1=Dense(1024,activation='relu')(x1) #dense layer 2\n",
        "# x1=Dense(512,activation='relu')(x1) #dense layer 3\n",
        "# preds=Dense(2,activation='softmax')(x1) #final layer with softmax activation\n",
        "\n",
        "model=Model(inputs=base_model.input,outputs=preds)\n",
        "#specify the inputs\n",
        "#specify the outputs\n",
        "#now a model has been created based on our architecture\n",
        "\n",
        "for layer in model.layers[:20]:\n",
        "    layer.trainable=False\n",
        "for layer in model.layers[20:]:\n",
        "    layer.trainable=True\n",
        "\n",
        "train_datagen=ImageDataGenerator(preprocessing_function=preprocess_input) #included in our dependencies\n",
        "\n",
        "train_generator=train_datagen.flow_from_directory('/gdrive/My Drive/COVID Dataset/Train/', # this is where you specify the path to the main data folder\n",
        "                                                 target_size=(331, 331),\n",
        "                                                 color_mode='rgb',\n",
        "                                                 batch_size=32,\n",
        "                                                 class_mode='categorical',\n",
        "                                                 shuffle=True)\n",
        "model.compile(optimizer='Adam',loss='categorical_crossentropy',metrics=['accuracy'])\n",
        "# Adam optimizer\n",
        "# loss function will be categorical cross entropy\n",
        "# evaluation metric will be accuracy\n",
        "\n",
        "step_size_train=train_generator.n//train_generator.batch_size\n",
        "history=model.fit_generator(generator=train_generator,\n",
        "                   steps_per_epoch=step_size_train,\n",
        "                   epochs=10,verbose=1)\n",
        "test_datagen=ImageDataGenerator(preprocessing_function=preprocess_input) #included in our dependencies\n",
        "\n",
        "test_generator=train_datagen.flow_from_directory('/gdrive/My Drive/COVID Dataset/Test/', # this is where you specify the path to the main data folder\n",
        "                                                 target_size=(331, 331),\n",
        "                                                 color_mode='rgb',\n",
        "                                                 batch_size=32,\n",
        "                                                 class_mode='categorical',\n",
        "                                                 shuffle=True)\n",
        "scores=model.evaluate_generator(generator=test_generator,verbose=1)\n",
        "from sklearn.metrics import classification_report, confusion_matrix\n",
        "Y_pred = model.predict_generator(test_generator)\n",
        "y_pred_NASNetLarge = np.argmax(Y_pred,axis=1)\n",
        "print('Confusion Matrix')\n",
        "print(confusion_matrix(test_generator.classes, y_pred_NASNetLarge))\n",
        "print('Classification Report')\n",
        "target_names = ['Normal', 'Positive']\n",
        "print(classification_report(test_generator.classes, y_pred_NASNetLarge, target_names=target_names))"
      ],
      "execution_count": null,
      "outputs": [
        {
          "output_type": "stream",
          "text": [
            "Found 348 images belonging to 2 classes.\n",
            "Epoch 1/10\n"
          ],
          "name": "stdout"
        },
        {
          "output_type": "error",
          "ename": "ResourceExhaustedError",
          "evalue": "ignored",
          "traceback": [
            "\u001b[0;31m---------------------------------------------------------------------------\u001b[0m",
            "\u001b[0;31mResourceExhaustedError\u001b[0m                    Traceback (most recent call last)",
            "\u001b[0;32m<ipython-input-22-5c3e5fd73dbd>\u001b[0m in \u001b[0;36m<module>\u001b[0;34m()\u001b[0m\n\u001b[1;32m     33\u001b[0m history=model.fit_generator(generator=train_generator,\n\u001b[1;32m     34\u001b[0m                    \u001b[0msteps_per_epoch\u001b[0m\u001b[0;34m=\u001b[0m\u001b[0mstep_size_train\u001b[0m\u001b[0;34m,\u001b[0m\u001b[0;34m\u001b[0m\u001b[0;34m\u001b[0m\u001b[0m\n\u001b[0;32m---> 35\u001b[0;31m                    epochs=10,verbose=1)\n\u001b[0m\u001b[1;32m     36\u001b[0m \u001b[0mtest_datagen\u001b[0m\u001b[0;34m=\u001b[0m\u001b[0mImageDataGenerator\u001b[0m\u001b[0;34m(\u001b[0m\u001b[0mpreprocessing_function\u001b[0m\u001b[0;34m=\u001b[0m\u001b[0mpreprocess_input\u001b[0m\u001b[0;34m)\u001b[0m \u001b[0;31m#included in our dependencies\u001b[0m\u001b[0;34m\u001b[0m\u001b[0;34m\u001b[0m\u001b[0m\n\u001b[1;32m     37\u001b[0m \u001b[0;34m\u001b[0m\u001b[0m\n",
            "\u001b[0;32m/usr/local/lib/python3.6/dist-packages/keras/legacy/interfaces.py\u001b[0m in \u001b[0;36mwrapper\u001b[0;34m(*args, **kwargs)\u001b[0m\n\u001b[1;32m     89\u001b[0m                 warnings.warn('Update your `' + object_name + '` call to the ' +\n\u001b[1;32m     90\u001b[0m                               'Keras 2 API: ' + signature, stacklevel=2)\n\u001b[0;32m---> 91\u001b[0;31m             \u001b[0;32mreturn\u001b[0m \u001b[0mfunc\u001b[0m\u001b[0;34m(\u001b[0m\u001b[0;34m*\u001b[0m\u001b[0margs\u001b[0m\u001b[0;34m,\u001b[0m \u001b[0;34m**\u001b[0m\u001b[0mkwargs\u001b[0m\u001b[0;34m)\u001b[0m\u001b[0;34m\u001b[0m\u001b[0;34m\u001b[0m\u001b[0m\n\u001b[0m\u001b[1;32m     92\u001b[0m         \u001b[0mwrapper\u001b[0m\u001b[0;34m.\u001b[0m\u001b[0m_original_function\u001b[0m \u001b[0;34m=\u001b[0m \u001b[0mfunc\u001b[0m\u001b[0;34m\u001b[0m\u001b[0;34m\u001b[0m\u001b[0m\n\u001b[1;32m     93\u001b[0m         \u001b[0;32mreturn\u001b[0m \u001b[0mwrapper\u001b[0m\u001b[0;34m\u001b[0m\u001b[0;34m\u001b[0m\u001b[0m\n",
            "\u001b[0;32m/usr/local/lib/python3.6/dist-packages/keras/engine/training.py\u001b[0m in \u001b[0;36mfit_generator\u001b[0;34m(self, generator, steps_per_epoch, epochs, verbose, callbacks, validation_data, validation_steps, validation_freq, class_weight, max_queue_size, workers, use_multiprocessing, shuffle, initial_epoch)\u001b[0m\n\u001b[1;32m   1730\u001b[0m             \u001b[0muse_multiprocessing\u001b[0m\u001b[0;34m=\u001b[0m\u001b[0muse_multiprocessing\u001b[0m\u001b[0;34m,\u001b[0m\u001b[0;34m\u001b[0m\u001b[0;34m\u001b[0m\u001b[0m\n\u001b[1;32m   1731\u001b[0m             \u001b[0mshuffle\u001b[0m\u001b[0;34m=\u001b[0m\u001b[0mshuffle\u001b[0m\u001b[0;34m,\u001b[0m\u001b[0;34m\u001b[0m\u001b[0;34m\u001b[0m\u001b[0m\n\u001b[0;32m-> 1732\u001b[0;31m             initial_epoch=initial_epoch)\n\u001b[0m\u001b[1;32m   1733\u001b[0m \u001b[0;34m\u001b[0m\u001b[0m\n\u001b[1;32m   1734\u001b[0m     \u001b[0;34m@\u001b[0m\u001b[0minterfaces\u001b[0m\u001b[0;34m.\u001b[0m\u001b[0mlegacy_generator_methods_support\u001b[0m\u001b[0;34m\u001b[0m\u001b[0;34m\u001b[0m\u001b[0m\n",
            "\u001b[0;32m/usr/local/lib/python3.6/dist-packages/keras/engine/training_generator.py\u001b[0m in \u001b[0;36mfit_generator\u001b[0;34m(model, generator, steps_per_epoch, epochs, verbose, callbacks, validation_data, validation_steps, validation_freq, class_weight, max_queue_size, workers, use_multiprocessing, shuffle, initial_epoch)\u001b[0m\n\u001b[1;32m    218\u001b[0m                                             \u001b[0msample_weight\u001b[0m\u001b[0;34m=\u001b[0m\u001b[0msample_weight\u001b[0m\u001b[0;34m,\u001b[0m\u001b[0;34m\u001b[0m\u001b[0;34m\u001b[0m\u001b[0m\n\u001b[1;32m    219\u001b[0m                                             \u001b[0mclass_weight\u001b[0m\u001b[0;34m=\u001b[0m\u001b[0mclass_weight\u001b[0m\u001b[0;34m,\u001b[0m\u001b[0;34m\u001b[0m\u001b[0;34m\u001b[0m\u001b[0m\n\u001b[0;32m--> 220\u001b[0;31m                                             reset_metrics=False)\n\u001b[0m\u001b[1;32m    221\u001b[0m \u001b[0;34m\u001b[0m\u001b[0m\n\u001b[1;32m    222\u001b[0m                 \u001b[0mouts\u001b[0m \u001b[0;34m=\u001b[0m \u001b[0mto_list\u001b[0m\u001b[0;34m(\u001b[0m\u001b[0mouts\u001b[0m\u001b[0;34m)\u001b[0m\u001b[0;34m\u001b[0m\u001b[0;34m\u001b[0m\u001b[0m\n",
            "\u001b[0;32m/usr/local/lib/python3.6/dist-packages/keras/engine/training.py\u001b[0m in \u001b[0;36mtrain_on_batch\u001b[0;34m(self, x, y, sample_weight, class_weight, reset_metrics)\u001b[0m\n\u001b[1;32m   1512\u001b[0m             \u001b[0mins\u001b[0m \u001b[0;34m=\u001b[0m \u001b[0mx\u001b[0m \u001b[0;34m+\u001b[0m \u001b[0my\u001b[0m \u001b[0;34m+\u001b[0m \u001b[0msample_weights\u001b[0m\u001b[0;34m\u001b[0m\u001b[0;34m\u001b[0m\u001b[0m\n\u001b[1;32m   1513\u001b[0m         \u001b[0mself\u001b[0m\u001b[0;34m.\u001b[0m\u001b[0m_make_train_function\u001b[0m\u001b[0;34m(\u001b[0m\u001b[0;34m)\u001b[0m\u001b[0;34m\u001b[0m\u001b[0;34m\u001b[0m\u001b[0m\n\u001b[0;32m-> 1514\u001b[0;31m         \u001b[0moutputs\u001b[0m \u001b[0;34m=\u001b[0m \u001b[0mself\u001b[0m\u001b[0;34m.\u001b[0m\u001b[0mtrain_function\u001b[0m\u001b[0;34m(\u001b[0m\u001b[0mins\u001b[0m\u001b[0;34m)\u001b[0m\u001b[0;34m\u001b[0m\u001b[0;34m\u001b[0m\u001b[0m\n\u001b[0m\u001b[1;32m   1515\u001b[0m \u001b[0;34m\u001b[0m\u001b[0m\n\u001b[1;32m   1516\u001b[0m         \u001b[0;32mif\u001b[0m \u001b[0mreset_metrics\u001b[0m\u001b[0;34m:\u001b[0m\u001b[0;34m\u001b[0m\u001b[0;34m\u001b[0m\u001b[0m\n",
            "\u001b[0;32m/usr/local/lib/python3.6/dist-packages/tensorflow/python/keras/backend.py\u001b[0m in \u001b[0;36m__call__\u001b[0;34m(self, inputs)\u001b[0m\n\u001b[1;32m   3790\u001b[0m         \u001b[0mvalue\u001b[0m \u001b[0;34m=\u001b[0m \u001b[0mmath_ops\u001b[0m\u001b[0;34m.\u001b[0m\u001b[0mcast\u001b[0m\u001b[0;34m(\u001b[0m\u001b[0mvalue\u001b[0m\u001b[0;34m,\u001b[0m \u001b[0mtensor\u001b[0m\u001b[0;34m.\u001b[0m\u001b[0mdtype\u001b[0m\u001b[0;34m)\u001b[0m\u001b[0;34m\u001b[0m\u001b[0;34m\u001b[0m\u001b[0m\n\u001b[1;32m   3791\u001b[0m       \u001b[0mconverted_inputs\u001b[0m\u001b[0;34m.\u001b[0m\u001b[0mappend\u001b[0m\u001b[0;34m(\u001b[0m\u001b[0mvalue\u001b[0m\u001b[0;34m)\u001b[0m\u001b[0;34m\u001b[0m\u001b[0;34m\u001b[0m\u001b[0m\n\u001b[0;32m-> 3792\u001b[0;31m     \u001b[0moutputs\u001b[0m \u001b[0;34m=\u001b[0m \u001b[0mself\u001b[0m\u001b[0;34m.\u001b[0m\u001b[0m_graph_fn\u001b[0m\u001b[0;34m(\u001b[0m\u001b[0;34m*\u001b[0m\u001b[0mconverted_inputs\u001b[0m\u001b[0;34m)\u001b[0m\u001b[0;34m\u001b[0m\u001b[0;34m\u001b[0m\u001b[0m\n\u001b[0m\u001b[1;32m   3793\u001b[0m \u001b[0;34m\u001b[0m\u001b[0m\n\u001b[1;32m   3794\u001b[0m     \u001b[0;31m# EagerTensor.numpy() will often make a copy to ensure memory safety.\u001b[0m\u001b[0;34m\u001b[0m\u001b[0;34m\u001b[0m\u001b[0;34m\u001b[0m\u001b[0m\n",
            "\u001b[0;32m/usr/local/lib/python3.6/dist-packages/tensorflow/python/eager/function.py\u001b[0m in \u001b[0;36m__call__\u001b[0;34m(self, *args, **kwargs)\u001b[0m\n\u001b[1;32m   1603\u001b[0m       \u001b[0mTypeError\u001b[0m\u001b[0;34m:\u001b[0m \u001b[0mFor\u001b[0m \u001b[0minvalid\u001b[0m \u001b[0mpositional\u001b[0m\u001b[0;34m/\u001b[0m\u001b[0mkeyword\u001b[0m \u001b[0margument\u001b[0m \u001b[0mcombinations\u001b[0m\u001b[0;34m.\u001b[0m\u001b[0;34m\u001b[0m\u001b[0;34m\u001b[0m\u001b[0m\n\u001b[1;32m   1604\u001b[0m     \"\"\"\n\u001b[0;32m-> 1605\u001b[0;31m     \u001b[0;32mreturn\u001b[0m \u001b[0mself\u001b[0m\u001b[0;34m.\u001b[0m\u001b[0m_call_impl\u001b[0m\u001b[0;34m(\u001b[0m\u001b[0margs\u001b[0m\u001b[0;34m,\u001b[0m \u001b[0mkwargs\u001b[0m\u001b[0;34m)\u001b[0m\u001b[0;34m\u001b[0m\u001b[0;34m\u001b[0m\u001b[0m\n\u001b[0m\u001b[1;32m   1606\u001b[0m \u001b[0;34m\u001b[0m\u001b[0m\n\u001b[1;32m   1607\u001b[0m   \u001b[0;32mdef\u001b[0m \u001b[0m_call_impl\u001b[0m\u001b[0;34m(\u001b[0m\u001b[0mself\u001b[0m\u001b[0;34m,\u001b[0m \u001b[0margs\u001b[0m\u001b[0;34m,\u001b[0m \u001b[0mkwargs\u001b[0m\u001b[0;34m,\u001b[0m \u001b[0mcancellation_manager\u001b[0m\u001b[0;34m=\u001b[0m\u001b[0;32mNone\u001b[0m\u001b[0;34m)\u001b[0m\u001b[0;34m:\u001b[0m\u001b[0;34m\u001b[0m\u001b[0;34m\u001b[0m\u001b[0m\n",
            "\u001b[0;32m/usr/local/lib/python3.6/dist-packages/tensorflow/python/eager/function.py\u001b[0m in \u001b[0;36m_call_impl\u001b[0;34m(self, args, kwargs, cancellation_manager)\u001b[0m\n\u001b[1;32m   1643\u001b[0m       raise TypeError(\"Keyword arguments {} unknown. Expected {}.\".format(\n\u001b[1;32m   1644\u001b[0m           list(kwargs.keys()), list(self._arg_keywords)))\n\u001b[0;32m-> 1645\u001b[0;31m     \u001b[0;32mreturn\u001b[0m \u001b[0mself\u001b[0m\u001b[0;34m.\u001b[0m\u001b[0m_call_flat\u001b[0m\u001b[0;34m(\u001b[0m\u001b[0margs\u001b[0m\u001b[0;34m,\u001b[0m \u001b[0mself\u001b[0m\u001b[0;34m.\u001b[0m\u001b[0mcaptured_inputs\u001b[0m\u001b[0;34m,\u001b[0m \u001b[0mcancellation_manager\u001b[0m\u001b[0;34m)\u001b[0m\u001b[0;34m\u001b[0m\u001b[0;34m\u001b[0m\u001b[0m\n\u001b[0m\u001b[1;32m   1646\u001b[0m \u001b[0;34m\u001b[0m\u001b[0m\n\u001b[1;32m   1647\u001b[0m   \u001b[0;32mdef\u001b[0m \u001b[0m_filtered_call\u001b[0m\u001b[0;34m(\u001b[0m\u001b[0mself\u001b[0m\u001b[0;34m,\u001b[0m \u001b[0margs\u001b[0m\u001b[0;34m,\u001b[0m \u001b[0mkwargs\u001b[0m\u001b[0;34m)\u001b[0m\u001b[0;34m:\u001b[0m\u001b[0;34m\u001b[0m\u001b[0;34m\u001b[0m\u001b[0m\n",
            "\u001b[0;32m/usr/local/lib/python3.6/dist-packages/tensorflow/python/eager/function.py\u001b[0m in \u001b[0;36m_call_flat\u001b[0;34m(self, args, captured_inputs, cancellation_manager)\u001b[0m\n\u001b[1;32m   1744\u001b[0m       \u001b[0;31m# No tape is watching; skip to running the function.\u001b[0m\u001b[0;34m\u001b[0m\u001b[0;34m\u001b[0m\u001b[0;34m\u001b[0m\u001b[0m\n\u001b[1;32m   1745\u001b[0m       return self._build_call_outputs(self._inference_function.call(\n\u001b[0;32m-> 1746\u001b[0;31m           ctx, args, cancellation_manager=cancellation_manager))\n\u001b[0m\u001b[1;32m   1747\u001b[0m     forward_backward = self._select_forward_and_backward_functions(\n\u001b[1;32m   1748\u001b[0m         \u001b[0margs\u001b[0m\u001b[0;34m,\u001b[0m\u001b[0;34m\u001b[0m\u001b[0;34m\u001b[0m\u001b[0m\n",
            "\u001b[0;32m/usr/local/lib/python3.6/dist-packages/tensorflow/python/eager/function.py\u001b[0m in \u001b[0;36mcall\u001b[0;34m(self, ctx, args, cancellation_manager)\u001b[0m\n\u001b[1;32m    596\u001b[0m               \u001b[0minputs\u001b[0m\u001b[0;34m=\u001b[0m\u001b[0margs\u001b[0m\u001b[0;34m,\u001b[0m\u001b[0;34m\u001b[0m\u001b[0;34m\u001b[0m\u001b[0m\n\u001b[1;32m    597\u001b[0m               \u001b[0mattrs\u001b[0m\u001b[0;34m=\u001b[0m\u001b[0mattrs\u001b[0m\u001b[0;34m,\u001b[0m\u001b[0;34m\u001b[0m\u001b[0;34m\u001b[0m\u001b[0m\n\u001b[0;32m--> 598\u001b[0;31m               ctx=ctx)\n\u001b[0m\u001b[1;32m    599\u001b[0m         \u001b[0;32melse\u001b[0m\u001b[0;34m:\u001b[0m\u001b[0;34m\u001b[0m\u001b[0;34m\u001b[0m\u001b[0m\n\u001b[1;32m    600\u001b[0m           outputs = execute.execute_with_cancellation(\n",
            "\u001b[0;32m/usr/local/lib/python3.6/dist-packages/tensorflow/python/eager/execute.py\u001b[0m in \u001b[0;36mquick_execute\u001b[0;34m(op_name, num_outputs, inputs, attrs, ctx, name)\u001b[0m\n\u001b[1;32m     58\u001b[0m     \u001b[0mctx\u001b[0m\u001b[0;34m.\u001b[0m\u001b[0mensure_initialized\u001b[0m\u001b[0;34m(\u001b[0m\u001b[0;34m)\u001b[0m\u001b[0;34m\u001b[0m\u001b[0;34m\u001b[0m\u001b[0m\n\u001b[1;32m     59\u001b[0m     tensors = pywrap_tfe.TFE_Py_Execute(ctx._handle, device_name, op_name,\n\u001b[0;32m---> 60\u001b[0;31m                                         inputs, attrs, num_outputs)\n\u001b[0m\u001b[1;32m     61\u001b[0m   \u001b[0;32mexcept\u001b[0m \u001b[0mcore\u001b[0m\u001b[0;34m.\u001b[0m\u001b[0m_NotOkStatusException\u001b[0m \u001b[0;32mas\u001b[0m \u001b[0me\u001b[0m\u001b[0;34m:\u001b[0m\u001b[0;34m\u001b[0m\u001b[0;34m\u001b[0m\u001b[0m\n\u001b[1;32m     62\u001b[0m     \u001b[0;32mif\u001b[0m \u001b[0mname\u001b[0m \u001b[0;32mis\u001b[0m \u001b[0;32mnot\u001b[0m \u001b[0;32mNone\u001b[0m\u001b[0;34m:\u001b[0m\u001b[0;34m\u001b[0m\u001b[0;34m\u001b[0m\u001b[0m\n",
            "\u001b[0;31mResourceExhaustedError\u001b[0m:  OOM when allocating tensor with shape[32,1008,42,42] and type float on /job:localhost/replica:0/task:0/device:GPU:0 by allocator GPU_0_bfc\n\t [[node normal_concat_0_1/concat (defined at /usr/local/lib/python3.6/dist-packages/keras/backend/tensorflow_backend.py:3009) ]]\nHint: If you want to see a list of allocated tensors when OOM happens, add report_tensor_allocations_upon_oom to RunOptions for current allocation info.\n [Op:__inference_keras_scratch_graph_856696]\n\nFunction call stack:\nkeras_scratch_graph\n"
          ]
        }
      ]
    },
    {
      "cell_type": "markdown",
      "metadata": {
        "id": "xCIJvMawVK-1",
        "colab_type": "text"
      },
      "source": [
        "# NASNetMobile"
      ]
    },
    {
      "cell_type": "code",
      "metadata": {
        "id": "GYK03pnkUWf9",
        "colab_type": "code",
        "colab": {
          "base_uri": "https://localhost:8080/",
          "height": 696
        },
        "outputId": "c8e25d83-1b4f-43d4-938d-11bc795cba5f"
      },
      "source": [
        "base_model=NASNetMobile(weights='imagenet',include_top=False) #imports the mobilenet model and discards the last 1000 neuron layer.\n",
        "x1=base_model.output\n",
        "x1=GlobalAveragePooling2D(pool_size=(4,4))(x1)\n",
        "x1=Flatten(name=\"flatten\")(x1)\n",
        "x1=Dense(64,activation='relu')(x1) #we add dense layers so that the model can learn more complex1 functions and classify for better results.\n",
        "x1=Dropout(0.5)(x1)\n",
        "#x1=Dense(1024,activation='relu')(x1) #dense layer 2\n",
        "#x1=Dense(512,activation='relu')(x1) #dense layer 3\n",
        "preds=Dense(2,activation='softmax')(x1) #final layer with softmax activation\n",
        "\n",
        "# x1=base_model.output\n",
        "# x1=GlobalAveragePooling2D()(x1)\n",
        "# x1=Dense(1024,activation='relu')(x1) #we add dense layers so that the model can learn more complex1 functions and classify for better results.\n",
        "# x1=Dense(1024,activation='relu')(x1) #dense layer 2\n",
        "# x1=Dense(512,activation='relu')(x1) #dense layer 3\n",
        "# preds=Dense(2,activation='softmax')(x1) #final layer with softmax activation\n",
        "\n",
        "model=Model(inputs=base_model.input,outputs=preds)\n",
        "#specify the inputs\n",
        "#specify the outputs\n",
        "#now a model has been created based on our architecture\n",
        "\n",
        "for layer in model.layers[:20]:\n",
        "    layer.trainable=False\n",
        "for layer in model.layers[20:]:\n",
        "    layer.trainable=True\n",
        "\n",
        "train_datagen=ImageDataGenerator(preprocessing_function=preprocess_input) #included in our dependencies\n",
        "\n",
        "train_generator=train_datagen.flow_from_directory('/gdrive/My Drive/COVID Dataset/Train/', # this is where you specify the path to the main data folder\n",
        "                                                 target_size=(224,224),\n",
        "                                                 color_mode='rgb',\n",
        "                                                 batch_size=32,\n",
        "                                                 class_mode='categorical',\n",
        "                                                 shuffle=True)\n",
        "model.compile(optimizer='Adam',loss='categorical_crossentropy',metrics=['accuracy'])\n",
        "# Adam optimizer\n",
        "# loss function will be categorical cross entropy\n",
        "# evaluation metric will be accuracy\n",
        "\n",
        "step_size_train=train_generator.n//train_generator.batch_size\n",
        "history=model.fit_generator(generator=train_generator,\n",
        "                   steps_per_epoch=step_size_train,\n",
        "                   epochs=10,verbose=1)\n",
        "test_datagen=ImageDataGenerator(preprocessing_function=preprocess_input) #included in our dependencies\n",
        "\n",
        "test_generator=train_datagen.flow_from_directory('/gdrive/My Drive/COVID Dataset/Test/', # this is where you specify the path to the main data folder\n",
        "                                                 target_size=(224,224),\n",
        "                                                 color_mode='rgb',\n",
        "                                                 batch_size=32,\n",
        "                                                 class_mode='categorical',\n",
        "                                                 shuffle=True)\n",
        "scores=model.evaluate_generator(generator=test_generator,verbose=1)\n",
        "from sklearn.metrics import classification_report, confusion_matrix\n",
        "Y_pred = model.predict_generator(test_generator)\n",
        "y_pred_NASNetMobile = np.argmax(Y_pred,axis=1)\n",
        "print('Confusion Matrix')\n",
        "print(confusion_matrix(test_generator.classes, y_pred_NASNetMobile))\n",
        "print('Classification Report')\n",
        "target_names = ['Normal', 'Positive']\n",
        "print(classification_report(test_generator.classes, y_pred_NASNetMobile, target_names=target_names))"
      ],
      "execution_count": null,
      "outputs": [
        {
          "output_type": "stream",
          "text": [
            "Downloading data from https://github.com/titu1994/Keras-NASNet/releases/download/v1.2/NASNet-mobile-no-top.h5\n",
            "19996672/19993432 [==============================] - 2s 0us/step\n",
            "Found 348 images belonging to 2 classes.\n",
            "Epoch 1/10\n",
            "10/10 [==============================] - 124s 12s/step - loss: 0.4668 - accuracy: 0.7785\n",
            "Epoch 2/10\n",
            "10/10 [==============================] - 14s 1s/step - loss: 0.0064 - accuracy: 0.9968\n",
            "Epoch 3/10\n",
            "10/10 [==============================] - 14s 1s/step - loss: 0.1307 - accuracy: 0.9842\n",
            "Epoch 4/10\n",
            "10/10 [==============================] - 14s 1s/step - loss: 0.0298 - accuracy: 0.9875\n",
            "Epoch 5/10\n",
            "10/10 [==============================] - 13s 1s/step - loss: 0.0129 - accuracy: 0.9968\n",
            "Epoch 6/10\n",
            "10/10 [==============================] - 14s 1s/step - loss: 4.9640e-04 - accuracy: 1.0000\n",
            "Epoch 7/10\n",
            "10/10 [==============================] - 14s 1s/step - loss: 1.7771e-06 - accuracy: 1.0000\n",
            "Epoch 8/10\n",
            "10/10 [==============================] - 14s 1s/step - loss: 0.0366 - accuracy: 0.9937\n",
            "Epoch 9/10\n",
            "10/10 [==============================] - 14s 1s/step - loss: 0.0763 - accuracy: 0.9937\n",
            "Epoch 10/10\n",
            "10/10 [==============================] - 14s 1s/step - loss: 0.0279 - accuracy: 0.9968\n",
            "Found 59 images belonging to 2 classes.\n",
            "2/2 [==============================] - 9s 5s/step\n",
            "Confusion Matrix\n",
            "[[17  0]\n",
            " [41  1]]\n",
            "Classification Report\n",
            "              precision    recall  f1-score   support\n",
            "\n",
            "      Normal       0.29      1.00      0.45        17\n",
            "    Positive       1.00      0.02      0.05        42\n",
            "\n",
            "    accuracy                           0.31        59\n",
            "   macro avg       0.65      0.51      0.25        59\n",
            "weighted avg       0.80      0.31      0.16        59\n",
            "\n"
          ],
          "name": "stdout"
        }
      ]
    },
    {
      "cell_type": "markdown",
      "metadata": {
        "id": "ki6sXQlRVTvJ",
        "colab_type": "text"
      },
      "source": [
        "# ResNet101"
      ]
    },
    {
      "cell_type": "code",
      "metadata": {
        "id": "H84mFJksVOC0",
        "colab_type": "code",
        "colab": {
          "base_uri": "https://localhost:8080/",
          "height": 696
        },
        "outputId": "816eacc7-b69b-4fe3-f81d-e97e16bbc346"
      },
      "source": [
        "base_model=ResNet101(weights='imagenet',include_top=False) #imports the mobilenet model and discards the last 1000 neuron layer.\n",
        "x1=base_model.output\n",
        "x1=GlobalAveragePooling2D(pool_size=(4,4))(x1)\n",
        "x1=Flatten(name=\"flatten\")(x1)\n",
        "x1=Dense(64,activation='relu')(x1) #we add dense layers so that the model can learn more complex1 functions and classify for better results.\n",
        "x1=Dropout(0.5)(x1)\n",
        "#x1=Dense(1024,activation='relu')(x1) #dense layer 2\n",
        "#x1=Dense(512,activation='relu')(x1) #dense layer 3\n",
        "preds=Dense(2,activation='softmax')(x1) #final layer with softmax activation\n",
        "\n",
        "# x1=base_model.output\n",
        "# x1=GlobalAveragePooling2D()(x1)\n",
        "# x1=Dense(1024,activation='relu')(x1) #we add dense layers so that the model can learn more complex1 functions and classify for better results.\n",
        "# x1=Dense(1024,activation='relu')(x1) #dense layer 2\n",
        "# x1=Dense(512,activation='relu')(x1) #dense layer 3\n",
        "# preds=Dense(2,activation='softmax')(x1) #final layer with softmax activation\n",
        "\n",
        "model=Model(inputs=base_model.input,outputs=preds)\n",
        "#specify the inputs\n",
        "#specify the outputs\n",
        "#now a model has been created based on our architecture\n",
        "\n",
        "for layer in model.layers[:20]:\n",
        "    layer.trainable=False\n",
        "for layer in model.layers[20:]:\n",
        "    layer.trainable=True\n",
        "\n",
        "train_datagen=ImageDataGenerator(preprocessing_function=preprocess_input) #included in our dependencies\n",
        "\n",
        "train_generator=train_datagen.flow_from_directory('/gdrive/My Drive/COVID Dataset/Train/', # this is where you specify the path to the main data folder\n",
        "                                                 target_size=(224,224),\n",
        "                                                 color_mode='rgb',\n",
        "                                                 batch_size=32,\n",
        "                                                 class_mode='categorical',\n",
        "                                                 shuffle=True)\n",
        "model.compile(optimizer='Adam',loss='categorical_crossentropy',metrics=['accuracy'])\n",
        "# Adam optimizer\n",
        "# loss function will be categorical cross entropy\n",
        "# evaluation metric will be accuracy\n",
        "\n",
        "step_size_train=train_generator.n//train_generator.batch_size\n",
        "history=model.fit_generator(generator=train_generator,\n",
        "                   steps_per_epoch=step_size_train,\n",
        "                   epochs=10,verbose=1)\n",
        "test_datagen=ImageDataGenerator(preprocessing_function=preprocess_input) #included in our dependencies\n",
        "\n",
        "test_generator=train_datagen.flow_from_directory('/gdrive/My Drive/COVID Dataset/Test/', # this is where you specify the path to the main data folder\n",
        "                                                 target_size=(224,224),\n",
        "                                                 color_mode='rgb',\n",
        "                                                 batch_size=32,\n",
        "                                                 class_mode='categorical',\n",
        "                                                 shuffle=True)\n",
        "scores=model.evaluate_generator(generator=test_generator,verbose=1)\n",
        "from sklearn.metrics import classification_report, confusion_matrix\n",
        "Y_pred = model.predict_generator(test_generator)\n",
        "y_pred_ResNet101 = np.argmax(Y_pred,axis=1)\n",
        "print('Confusion Matrix')\n",
        "print(confusion_matrix(test_generator.classes, y_pred_ResNet101))\n",
        "print('Classification Report')\n",
        "target_names = ['Normal', 'Positive']\n",
        "print(classification_report(test_generator.classes, y_pred_ResNet101, target_names=target_names))"
      ],
      "execution_count": null,
      "outputs": [
        {
          "output_type": "stream",
          "text": [
            "Found 348 images belonging to 2 classes.\n",
            "Epoch 1/10\n",
            "10/10 [==============================] - 69s 7s/step - loss: 0.2630 - accuracy: 0.9114\n",
            "Epoch 2/10\n",
            "10/10 [==============================] - 21s 2s/step - loss: 0.5377 - accuracy: 0.9594\n",
            "Epoch 3/10\n",
            "10/10 [==============================] - 20s 2s/step - loss: 0.0313 - accuracy: 0.9936\n",
            "Epoch 4/10\n",
            "10/10 [==============================] - 20s 2s/step - loss: 0.2732 - accuracy: 0.9937\n",
            "Epoch 5/10\n",
            "10/10 [==============================] - 20s 2s/step - loss: 0.0405 - accuracy: 0.9905\n",
            "Epoch 6/10\n",
            "10/10 [==============================] - 20s 2s/step - loss: 0.0463 - accuracy: 0.9936\n",
            "Epoch 7/10\n",
            "10/10 [==============================] - 20s 2s/step - loss: 0.0286 - accuracy: 0.9905\n",
            "Epoch 8/10\n",
            "10/10 [==============================] - 20s 2s/step - loss: 0.0319 - accuracy: 0.9937\n",
            "Epoch 9/10\n",
            "10/10 [==============================] - 20s 2s/step - loss: 0.0139 - accuracy: 0.9968\n",
            "Epoch 10/10\n",
            "10/10 [==============================] - 20s 2s/step - loss: 0.0023 - accuracy: 1.0000\n",
            "Found 59 images belonging to 2 classes.\n",
            "2/2 [==============================] - 7s 3s/step\n",
            "Confusion Matrix\n",
            "[[ 0 17]\n",
            " [ 0 42]]\n",
            "Classification Report\n",
            "              precision    recall  f1-score   support\n",
            "\n",
            "      Normal       0.00      0.00      0.00        17\n",
            "    Positive       0.71      1.00      0.83        42\n",
            "\n",
            "    accuracy                           0.71        59\n",
            "   macro avg       0.36      0.50      0.42        59\n",
            "weighted avg       0.51      0.71      0.59        59\n",
            "\n"
          ],
          "name": "stdout"
        },
        {
          "output_type": "stream",
          "text": [
            "/usr/local/lib/python3.6/dist-packages/sklearn/metrics/_classification.py:1272: UndefinedMetricWarning: Precision and F-score are ill-defined and being set to 0.0 in labels with no predicted samples. Use `zero_division` parameter to control this behavior.\n",
            "  _warn_prf(average, modifier, msg_start, len(result))\n"
          ],
          "name": "stderr"
        }
      ]
    },
    {
      "cell_type": "markdown",
      "metadata": {
        "id": "tMQ-IZltVVwX",
        "colab_type": "text"
      },
      "source": [
        "# ResNet152V2"
      ]
    },
    {
      "cell_type": "code",
      "metadata": {
        "id": "YDJWUfKFVW1J",
        "colab_type": "code",
        "colab": {
          "base_uri": "https://localhost:8080/",
          "height": 574
        },
        "outputId": "9d3e81d0-8b3b-4096-91af-5e52a9340534"
      },
      "source": [
        "base_model=ResNet152V2(weights='imagenet',include_top=False) #imports the mobilenet model and discards the last 1000 neuron layer.\n",
        "x1=base_model.output\n",
        "x1=GlobalAveragePooling2D(pool_size=(4,4))(x1)\n",
        "x1=Flatten(name=\"flatten\")(x1)\n",
        "x1=Dense(64,activation='relu')(x1) #we add dense layers so that the model can learn more complex1 functions and classify for better results.\n",
        "x1=Dropout(0.5)(x1)\n",
        "#x1=Dense(1024,activation='relu')(x1) #dense layer 2\n",
        "#x1=Dense(512,activation='relu')(x1) #dense layer 3\n",
        "preds=Dense(2,activation='softmax')(x1) #final layer with softmax activation\n",
        "\n",
        "# x1=base_model.output\n",
        "# x1=GlobalAveragePooling2D()(x1)\n",
        "# x1=Dense(1024,activation='relu')(x1) #we add dense layers so that the model can learn more complex1 functions and classify for better results.\n",
        "# x1=Dense(1024,activation='relu')(x1) #dense layer 2\n",
        "# x1=Dense(512,activation='relu')(x1) #dense layer 3\n",
        "# preds=Dense(2,activation='softmax')(x1) #final layer with softmax activation\n",
        "\n",
        "model=Model(inputs=base_model.input,outputs=preds)\n",
        "#specify the inputs\n",
        "#specify the outputs\n",
        "#now a model has been created based on our architecture\n",
        "\n",
        "for layer in model.layers[:20]:\n",
        "    layer.trainable=False\n",
        "for layer in model.layers[20:]:\n",
        "    layer.trainable=True\n",
        "\n",
        "train_datagen=ImageDataGenerator(preprocessing_function=preprocess_input) #included in our dependencies\n",
        "\n",
        "train_generator=train_datagen.flow_from_directory('/gdrive/My Drive/COVID Dataset/Train/', # this is where you specify the path to the main data folder\n",
        "                                                 target_size=(224,224),\n",
        "                                                 color_mode='rgb',\n",
        "                                                 batch_size=32,\n",
        "                                                 class_mode='categorical',\n",
        "                                                 shuffle=True)\n",
        "model.compile(optimizer='Adam',loss='categorical_crossentropy',metrics=['accuracy'])\n",
        "# Adam optimizer\n",
        "# loss function will be categorical cross entropy\n",
        "# evaluation metric will be accuracy\n",
        "\n",
        "step_size_train=train_generator.n//train_generator.batch_size\n",
        "history=model.fit_generator(generator=train_generator,\n",
        "                   steps_per_epoch=step_size_train,\n",
        "                   epochs=10,verbose=1)\n",
        "test_datagen=ImageDataGenerator(preprocessing_function=preprocess_input) #included in our dependencies\n",
        "\n",
        "test_generator=train_datagen.flow_from_directory('/gdrive/My Drive/COVID Dataset/Test/', # this is where you specify the path to the main data folder\n",
        "                                                 target_size=(224,224),\n",
        "                                                 color_mode='rgb',\n",
        "                                                 batch_size=32,\n",
        "                                                 class_mode='categorical',\n",
        "                                                 shuffle=True)\n",
        "scores=model.evaluate_generator(generator=test_generator,verbose=1)\n",
        "from sklearn.metrics import classification_report, confusion_matrix\n",
        "Y_pred = model.predict_generator(test_generator)\n",
        "y_pred_ResNet152V2 = np.argmax(Y_pred,axis=1)\n",
        "print('Confusion Matrix')\n",
        "print(confusion_matrix(test_generator.classes, y_pred_ResNet152V2))\n",
        "print('Classification Report')\n",
        "target_names = ['Normal', 'Positive']\n",
        "print(classification_report(test_generator.classes, y_pred_ResNet152V2, target_names=target_names))"
      ],
      "execution_count": null,
      "outputs": [
        {
          "output_type": "stream",
          "text": [
            "Downloading data from https://github.com/keras-team/keras-applications/releases/download/resnet/resnet152v2_weights_tf_dim_ordering_tf_kernels_notop.h5\n",
            "234553344/234545216 [==============================] - 16s 0us/step\n",
            "Found 348 images belonging to 2 classes.\n",
            "Epoch 1/10\n"
          ],
          "name": "stdout"
        },
        {
          "output_type": "error",
          "ename": "ResourceExhaustedError",
          "evalue": "ignored",
          "traceback": [
            "\u001b[0;31m---------------------------------------------------------------------------\u001b[0m",
            "\u001b[0;31mResourceExhaustedError\u001b[0m                    Traceback (most recent call last)",
            "\u001b[0;32m<ipython-input-25-2be88d8ec8fe>\u001b[0m in \u001b[0;36m<module>\u001b[0;34m()\u001b[0m\n\u001b[1;32m     33\u001b[0m history=model.fit_generator(generator=train_generator,\n\u001b[1;32m     34\u001b[0m                    \u001b[0msteps_per_epoch\u001b[0m\u001b[0;34m=\u001b[0m\u001b[0mstep_size_train\u001b[0m\u001b[0;34m,\u001b[0m\u001b[0;34m\u001b[0m\u001b[0;34m\u001b[0m\u001b[0m\n\u001b[0;32m---> 35\u001b[0;31m                    epochs=10,verbose=1)\n\u001b[0m\u001b[1;32m     36\u001b[0m \u001b[0mtest_datagen\u001b[0m\u001b[0;34m=\u001b[0m\u001b[0mImageDataGenerator\u001b[0m\u001b[0;34m(\u001b[0m\u001b[0mpreprocessing_function\u001b[0m\u001b[0;34m=\u001b[0m\u001b[0mpreprocess_input\u001b[0m\u001b[0;34m)\u001b[0m \u001b[0;31m#included in our dependencies\u001b[0m\u001b[0;34m\u001b[0m\u001b[0;34m\u001b[0m\u001b[0m\n\u001b[1;32m     37\u001b[0m \u001b[0;34m\u001b[0m\u001b[0m\n",
            "\u001b[0;32m/usr/local/lib/python3.6/dist-packages/keras/legacy/interfaces.py\u001b[0m in \u001b[0;36mwrapper\u001b[0;34m(*args, **kwargs)\u001b[0m\n\u001b[1;32m     89\u001b[0m                 warnings.warn('Update your `' + object_name + '` call to the ' +\n\u001b[1;32m     90\u001b[0m                               'Keras 2 API: ' + signature, stacklevel=2)\n\u001b[0;32m---> 91\u001b[0;31m             \u001b[0;32mreturn\u001b[0m \u001b[0mfunc\u001b[0m\u001b[0;34m(\u001b[0m\u001b[0;34m*\u001b[0m\u001b[0margs\u001b[0m\u001b[0;34m,\u001b[0m \u001b[0;34m**\u001b[0m\u001b[0mkwargs\u001b[0m\u001b[0;34m)\u001b[0m\u001b[0;34m\u001b[0m\u001b[0;34m\u001b[0m\u001b[0m\n\u001b[0m\u001b[1;32m     92\u001b[0m         \u001b[0mwrapper\u001b[0m\u001b[0;34m.\u001b[0m\u001b[0m_original_function\u001b[0m \u001b[0;34m=\u001b[0m \u001b[0mfunc\u001b[0m\u001b[0;34m\u001b[0m\u001b[0;34m\u001b[0m\u001b[0m\n\u001b[1;32m     93\u001b[0m         \u001b[0;32mreturn\u001b[0m \u001b[0mwrapper\u001b[0m\u001b[0;34m\u001b[0m\u001b[0;34m\u001b[0m\u001b[0m\n",
            "\u001b[0;32m/usr/local/lib/python3.6/dist-packages/keras/engine/training.py\u001b[0m in \u001b[0;36mfit_generator\u001b[0;34m(self, generator, steps_per_epoch, epochs, verbose, callbacks, validation_data, validation_steps, validation_freq, class_weight, max_queue_size, workers, use_multiprocessing, shuffle, initial_epoch)\u001b[0m\n\u001b[1;32m   1730\u001b[0m             \u001b[0muse_multiprocessing\u001b[0m\u001b[0;34m=\u001b[0m\u001b[0muse_multiprocessing\u001b[0m\u001b[0;34m,\u001b[0m\u001b[0;34m\u001b[0m\u001b[0;34m\u001b[0m\u001b[0m\n\u001b[1;32m   1731\u001b[0m             \u001b[0mshuffle\u001b[0m\u001b[0;34m=\u001b[0m\u001b[0mshuffle\u001b[0m\u001b[0;34m,\u001b[0m\u001b[0;34m\u001b[0m\u001b[0;34m\u001b[0m\u001b[0m\n\u001b[0;32m-> 1732\u001b[0;31m             initial_epoch=initial_epoch)\n\u001b[0m\u001b[1;32m   1733\u001b[0m \u001b[0;34m\u001b[0m\u001b[0m\n\u001b[1;32m   1734\u001b[0m     \u001b[0;34m@\u001b[0m\u001b[0minterfaces\u001b[0m\u001b[0;34m.\u001b[0m\u001b[0mlegacy_generator_methods_support\u001b[0m\u001b[0;34m\u001b[0m\u001b[0;34m\u001b[0m\u001b[0m\n",
            "\u001b[0;32m/usr/local/lib/python3.6/dist-packages/keras/engine/training_generator.py\u001b[0m in \u001b[0;36mfit_generator\u001b[0;34m(model, generator, steps_per_epoch, epochs, verbose, callbacks, validation_data, validation_steps, validation_freq, class_weight, max_queue_size, workers, use_multiprocessing, shuffle, initial_epoch)\u001b[0m\n\u001b[1;32m    218\u001b[0m                                             \u001b[0msample_weight\u001b[0m\u001b[0;34m=\u001b[0m\u001b[0msample_weight\u001b[0m\u001b[0;34m,\u001b[0m\u001b[0;34m\u001b[0m\u001b[0;34m\u001b[0m\u001b[0m\n\u001b[1;32m    219\u001b[0m                                             \u001b[0mclass_weight\u001b[0m\u001b[0;34m=\u001b[0m\u001b[0mclass_weight\u001b[0m\u001b[0;34m,\u001b[0m\u001b[0;34m\u001b[0m\u001b[0;34m\u001b[0m\u001b[0m\n\u001b[0;32m--> 220\u001b[0;31m                                             reset_metrics=False)\n\u001b[0m\u001b[1;32m    221\u001b[0m \u001b[0;34m\u001b[0m\u001b[0m\n\u001b[1;32m    222\u001b[0m                 \u001b[0mouts\u001b[0m \u001b[0;34m=\u001b[0m \u001b[0mto_list\u001b[0m\u001b[0;34m(\u001b[0m\u001b[0mouts\u001b[0m\u001b[0;34m)\u001b[0m\u001b[0;34m\u001b[0m\u001b[0;34m\u001b[0m\u001b[0m\n",
            "\u001b[0;32m/usr/local/lib/python3.6/dist-packages/keras/engine/training.py\u001b[0m in \u001b[0;36mtrain_on_batch\u001b[0;34m(self, x, y, sample_weight, class_weight, reset_metrics)\u001b[0m\n\u001b[1;32m   1512\u001b[0m             \u001b[0mins\u001b[0m \u001b[0;34m=\u001b[0m \u001b[0mx\u001b[0m \u001b[0;34m+\u001b[0m \u001b[0my\u001b[0m \u001b[0;34m+\u001b[0m \u001b[0msample_weights\u001b[0m\u001b[0;34m\u001b[0m\u001b[0;34m\u001b[0m\u001b[0m\n\u001b[1;32m   1513\u001b[0m         \u001b[0mself\u001b[0m\u001b[0;34m.\u001b[0m\u001b[0m_make_train_function\u001b[0m\u001b[0;34m(\u001b[0m\u001b[0;34m)\u001b[0m\u001b[0;34m\u001b[0m\u001b[0;34m\u001b[0m\u001b[0m\n\u001b[0;32m-> 1514\u001b[0;31m         \u001b[0moutputs\u001b[0m \u001b[0;34m=\u001b[0m \u001b[0mself\u001b[0m\u001b[0;34m.\u001b[0m\u001b[0mtrain_function\u001b[0m\u001b[0;34m(\u001b[0m\u001b[0mins\u001b[0m\u001b[0;34m)\u001b[0m\u001b[0;34m\u001b[0m\u001b[0;34m\u001b[0m\u001b[0m\n\u001b[0m\u001b[1;32m   1515\u001b[0m \u001b[0;34m\u001b[0m\u001b[0m\n\u001b[1;32m   1516\u001b[0m         \u001b[0;32mif\u001b[0m \u001b[0mreset_metrics\u001b[0m\u001b[0;34m:\u001b[0m\u001b[0;34m\u001b[0m\u001b[0;34m\u001b[0m\u001b[0m\n",
            "\u001b[0;32m/usr/local/lib/python3.6/dist-packages/tensorflow/python/keras/backend.py\u001b[0m in \u001b[0;36m__call__\u001b[0;34m(self, inputs)\u001b[0m\n\u001b[1;32m   3790\u001b[0m         \u001b[0mvalue\u001b[0m \u001b[0;34m=\u001b[0m \u001b[0mmath_ops\u001b[0m\u001b[0;34m.\u001b[0m\u001b[0mcast\u001b[0m\u001b[0;34m(\u001b[0m\u001b[0mvalue\u001b[0m\u001b[0;34m,\u001b[0m \u001b[0mtensor\u001b[0m\u001b[0;34m.\u001b[0m\u001b[0mdtype\u001b[0m\u001b[0;34m)\u001b[0m\u001b[0;34m\u001b[0m\u001b[0;34m\u001b[0m\u001b[0m\n\u001b[1;32m   3791\u001b[0m       \u001b[0mconverted_inputs\u001b[0m\u001b[0;34m.\u001b[0m\u001b[0mappend\u001b[0m\u001b[0;34m(\u001b[0m\u001b[0mvalue\u001b[0m\u001b[0;34m)\u001b[0m\u001b[0;34m\u001b[0m\u001b[0;34m\u001b[0m\u001b[0m\n\u001b[0;32m-> 3792\u001b[0;31m     \u001b[0moutputs\u001b[0m \u001b[0;34m=\u001b[0m \u001b[0mself\u001b[0m\u001b[0;34m.\u001b[0m\u001b[0m_graph_fn\u001b[0m\u001b[0;34m(\u001b[0m\u001b[0;34m*\u001b[0m\u001b[0mconverted_inputs\u001b[0m\u001b[0;34m)\u001b[0m\u001b[0;34m\u001b[0m\u001b[0;34m\u001b[0m\u001b[0m\n\u001b[0m\u001b[1;32m   3793\u001b[0m \u001b[0;34m\u001b[0m\u001b[0m\n\u001b[1;32m   3794\u001b[0m     \u001b[0;31m# EagerTensor.numpy() will often make a copy to ensure memory safety.\u001b[0m\u001b[0;34m\u001b[0m\u001b[0;34m\u001b[0m\u001b[0;34m\u001b[0m\u001b[0m\n",
            "\u001b[0;32m/usr/local/lib/python3.6/dist-packages/tensorflow/python/eager/function.py\u001b[0m in \u001b[0;36m__call__\u001b[0;34m(self, *args, **kwargs)\u001b[0m\n\u001b[1;32m   1603\u001b[0m       \u001b[0mTypeError\u001b[0m\u001b[0;34m:\u001b[0m \u001b[0mFor\u001b[0m \u001b[0minvalid\u001b[0m \u001b[0mpositional\u001b[0m\u001b[0;34m/\u001b[0m\u001b[0mkeyword\u001b[0m \u001b[0margument\u001b[0m \u001b[0mcombinations\u001b[0m\u001b[0;34m.\u001b[0m\u001b[0;34m\u001b[0m\u001b[0;34m\u001b[0m\u001b[0m\n\u001b[1;32m   1604\u001b[0m     \"\"\"\n\u001b[0;32m-> 1605\u001b[0;31m     \u001b[0;32mreturn\u001b[0m \u001b[0mself\u001b[0m\u001b[0;34m.\u001b[0m\u001b[0m_call_impl\u001b[0m\u001b[0;34m(\u001b[0m\u001b[0margs\u001b[0m\u001b[0;34m,\u001b[0m \u001b[0mkwargs\u001b[0m\u001b[0;34m)\u001b[0m\u001b[0;34m\u001b[0m\u001b[0;34m\u001b[0m\u001b[0m\n\u001b[0m\u001b[1;32m   1606\u001b[0m \u001b[0;34m\u001b[0m\u001b[0m\n\u001b[1;32m   1607\u001b[0m   \u001b[0;32mdef\u001b[0m \u001b[0m_call_impl\u001b[0m\u001b[0;34m(\u001b[0m\u001b[0mself\u001b[0m\u001b[0;34m,\u001b[0m \u001b[0margs\u001b[0m\u001b[0;34m,\u001b[0m \u001b[0mkwargs\u001b[0m\u001b[0;34m,\u001b[0m \u001b[0mcancellation_manager\u001b[0m\u001b[0;34m=\u001b[0m\u001b[0;32mNone\u001b[0m\u001b[0;34m)\u001b[0m\u001b[0;34m:\u001b[0m\u001b[0;34m\u001b[0m\u001b[0;34m\u001b[0m\u001b[0m\n",
            "\u001b[0;32m/usr/local/lib/python3.6/dist-packages/tensorflow/python/eager/function.py\u001b[0m in \u001b[0;36m_call_impl\u001b[0;34m(self, args, kwargs, cancellation_manager)\u001b[0m\n\u001b[1;32m   1643\u001b[0m       raise TypeError(\"Keyword arguments {} unknown. Expected {}.\".format(\n\u001b[1;32m   1644\u001b[0m           list(kwargs.keys()), list(self._arg_keywords)))\n\u001b[0;32m-> 1645\u001b[0;31m     \u001b[0;32mreturn\u001b[0m \u001b[0mself\u001b[0m\u001b[0;34m.\u001b[0m\u001b[0m_call_flat\u001b[0m\u001b[0;34m(\u001b[0m\u001b[0margs\u001b[0m\u001b[0;34m,\u001b[0m \u001b[0mself\u001b[0m\u001b[0;34m.\u001b[0m\u001b[0mcaptured_inputs\u001b[0m\u001b[0;34m,\u001b[0m \u001b[0mcancellation_manager\u001b[0m\u001b[0;34m)\u001b[0m\u001b[0;34m\u001b[0m\u001b[0;34m\u001b[0m\u001b[0m\n\u001b[0m\u001b[1;32m   1646\u001b[0m \u001b[0;34m\u001b[0m\u001b[0m\n\u001b[1;32m   1647\u001b[0m   \u001b[0;32mdef\u001b[0m \u001b[0m_filtered_call\u001b[0m\u001b[0;34m(\u001b[0m\u001b[0mself\u001b[0m\u001b[0;34m,\u001b[0m \u001b[0margs\u001b[0m\u001b[0;34m,\u001b[0m \u001b[0mkwargs\u001b[0m\u001b[0;34m)\u001b[0m\u001b[0;34m:\u001b[0m\u001b[0;34m\u001b[0m\u001b[0;34m\u001b[0m\u001b[0m\n",
            "\u001b[0;32m/usr/local/lib/python3.6/dist-packages/tensorflow/python/eager/function.py\u001b[0m in \u001b[0;36m_call_flat\u001b[0;34m(self, args, captured_inputs, cancellation_manager)\u001b[0m\n\u001b[1;32m   1744\u001b[0m       \u001b[0;31m# No tape is watching; skip to running the function.\u001b[0m\u001b[0;34m\u001b[0m\u001b[0;34m\u001b[0m\u001b[0;34m\u001b[0m\u001b[0m\n\u001b[1;32m   1745\u001b[0m       return self._build_call_outputs(self._inference_function.call(\n\u001b[0;32m-> 1746\u001b[0;31m           ctx, args, cancellation_manager=cancellation_manager))\n\u001b[0m\u001b[1;32m   1747\u001b[0m     forward_backward = self._select_forward_and_backward_functions(\n\u001b[1;32m   1748\u001b[0m         \u001b[0margs\u001b[0m\u001b[0;34m,\u001b[0m\u001b[0;34m\u001b[0m\u001b[0;34m\u001b[0m\u001b[0m\n",
            "\u001b[0;32m/usr/local/lib/python3.6/dist-packages/tensorflow/python/eager/function.py\u001b[0m in \u001b[0;36mcall\u001b[0;34m(self, ctx, args, cancellation_manager)\u001b[0m\n\u001b[1;32m    596\u001b[0m               \u001b[0minputs\u001b[0m\u001b[0;34m=\u001b[0m\u001b[0margs\u001b[0m\u001b[0;34m,\u001b[0m\u001b[0;34m\u001b[0m\u001b[0;34m\u001b[0m\u001b[0m\n\u001b[1;32m    597\u001b[0m               \u001b[0mattrs\u001b[0m\u001b[0;34m=\u001b[0m\u001b[0mattrs\u001b[0m\u001b[0;34m,\u001b[0m\u001b[0;34m\u001b[0m\u001b[0;34m\u001b[0m\u001b[0m\n\u001b[0;32m--> 598\u001b[0;31m               ctx=ctx)\n\u001b[0m\u001b[1;32m    599\u001b[0m         \u001b[0;32melse\u001b[0m\u001b[0;34m:\u001b[0m\u001b[0;34m\u001b[0m\u001b[0;34m\u001b[0m\u001b[0m\n\u001b[1;32m    600\u001b[0m           outputs = execute.execute_with_cancellation(\n",
            "\u001b[0;32m/usr/local/lib/python3.6/dist-packages/tensorflow/python/eager/execute.py\u001b[0m in \u001b[0;36mquick_execute\u001b[0;34m(op_name, num_outputs, inputs, attrs, ctx, name)\u001b[0m\n\u001b[1;32m     58\u001b[0m     \u001b[0mctx\u001b[0m\u001b[0;34m.\u001b[0m\u001b[0mensure_initialized\u001b[0m\u001b[0;34m(\u001b[0m\u001b[0;34m)\u001b[0m\u001b[0;34m\u001b[0m\u001b[0;34m\u001b[0m\u001b[0m\n\u001b[1;32m     59\u001b[0m     tensors = pywrap_tfe.TFE_Py_Execute(ctx._handle, device_name, op_name,\n\u001b[0;32m---> 60\u001b[0;31m                                         inputs, attrs, num_outputs)\n\u001b[0m\u001b[1;32m     61\u001b[0m   \u001b[0;32mexcept\u001b[0m \u001b[0mcore\u001b[0m\u001b[0;34m.\u001b[0m\u001b[0m_NotOkStatusException\u001b[0m \u001b[0;32mas\u001b[0m \u001b[0me\u001b[0m\u001b[0;34m:\u001b[0m\u001b[0;34m\u001b[0m\u001b[0;34m\u001b[0m\u001b[0m\n\u001b[1;32m     62\u001b[0m     \u001b[0;32mif\u001b[0m \u001b[0mname\u001b[0m \u001b[0;32mis\u001b[0m \u001b[0;32mnot\u001b[0m \u001b[0;32mNone\u001b[0m\u001b[0;34m:\u001b[0m\u001b[0;34m\u001b[0m\u001b[0;34m\u001b[0m\u001b[0m\n",
            "\u001b[0;31mResourceExhaustedError\u001b[0m:  OOM when allocating tensor with shape[1024,256,1,1] and type float on /job:localhost/replica:0/task:0/device:GPU:0 by allocator GPU_0_bfc\n\t [[node conv4_block34_3_conv/convolution (defined at /usr/local/lib/python3.6/dist-packages/keras/backend/tensorflow_backend.py:3009) ]]\nHint: If you want to see a list of allocated tensors when OOM happens, add report_tensor_allocations_upon_oom to RunOptions for current allocation info.\n [Op:__inference_keras_scratch_graph_1235938]\n\nFunction call stack:\nkeras_scratch_graph\n"
          ]
        }
      ]
    },
    {
      "cell_type": "markdown",
      "metadata": {
        "id": "TBn-mX58VgSI",
        "colab_type": "text"
      },
      "source": [
        "# VGG16"
      ]
    },
    {
      "cell_type": "code",
      "metadata": {
        "id": "wWREo_QrVjk8",
        "colab_type": "code",
        "colab": {
          "base_uri": "https://localhost:8080/",
          "height": 696
        },
        "outputId": "f353eaac-a890-4219-96ce-d3777c032c21"
      },
      "source": [
        "base_model=VGG16(weights='imagenet',include_top=False) #imports the mobilenet model and discards the last 1000 neuron layer.\n",
        "x1=base_model.output\n",
        "x1=GlobalAveragePooling2D(pool_size=(4,4))(x1)\n",
        "x1=Flatten(name=\"flatten\")(x1)\n",
        "x1=Dense(64,activation='relu')(x1) #we add dense layers so that the model can learn more complex1 functions and classify for better results.\n",
        "x1=Dropout(0.5)(x1)\n",
        "#x1=Dense(1024,activation='relu')(x1) #dense layer 2\n",
        "#x1=Dense(512,activation='relu')(x1) #dense layer 3\n",
        "preds=Dense(2,activation='softmax')(x1) #final layer with softmax activation\n",
        "\n",
        "# x1=base_model.output\n",
        "# x1=GlobalAveragePooling2D()(x1)\n",
        "# x1=Dense(1024,activation='relu')(x1) #we add dense layers so that the model can learn more complex1 functions and classify for better results.\n",
        "# x1=Dense(1024,activation='relu')(x1) #dense layer 2\n",
        "# x1=Dense(512,activation='relu')(x1) #dense layer 3\n",
        "# preds=Dense(2,activation='softmax')(x1) #final layer with softmax activation\n",
        "\n",
        "model=Model(inputs=base_model.input,outputs=preds)\n",
        "#specify the inputs\n",
        "#specify the outputs\n",
        "#now a model has been created based on our architecture\n",
        "\n",
        "for layer in model.layers[:20]:\n",
        "    layer.trainable=False\n",
        "for layer in model.layers[20:]:\n",
        "    layer.trainable=True\n",
        "\n",
        "train_datagen=ImageDataGenerator(preprocessing_function=preprocess_input) #included in our dependencies\n",
        "\n",
        "train_generator=train_datagen.flow_from_directory('/gdrive/My Drive/COVID Dataset/Train/', # this is where you specify the path to the main data folder\n",
        "                                                 target_size=(224,224),\n",
        "                                                 color_mode='rgb',\n",
        "                                                 batch_size=32,\n",
        "                                                 class_mode='categorical',\n",
        "                                                 shuffle=True)\n",
        "model.compile(optimizer='Adam',loss='categorical_crossentropy',metrics=['accuracy'])\n",
        "# Adam optimizer\n",
        "# loss function will be categorical cross entropy\n",
        "# evaluation metric will be accuracy\n",
        "\n",
        "step_size_train=train_generator.n//train_generator.batch_size\n",
        "history=model.fit_generator(generator=train_generator,\n",
        "                   steps_per_epoch=step_size_train,\n",
        "                   epochs=10,verbose=1)\n",
        "test_datagen=ImageDataGenerator(preprocessing_function=preprocess_input) #included in our dependencies\n",
        "\n",
        "test_generator=train_datagen.flow_from_directory('/gdrive/My Drive/COVID Dataset/Test/', # this is where you specify the path to the main data folder\n",
        "                                                 target_size=(224,224),\n",
        "                                                 color_mode='rgb',\n",
        "                                                 batch_size=32,\n",
        "                                                 class_mode='categorical',\n",
        "                                                 shuffle=True)\n",
        "scores=model.evaluate_generator(generator=test_generator,verbose=1)\n",
        "from sklearn.metrics import classification_report, confusion_matrix\n",
        "Y_pred = model.predict_generator(test_generator)\n",
        "y_pred_VGG16 = np.argmax(Y_pred,axis=1)\n",
        "print('Confusion Matrix')\n",
        "print(confusion_matrix(test_generator.classes, y_pred_VGG16))\n",
        "print('Classification Report')\n",
        "target_names = ['Normal', 'Positive']\n",
        "print(classification_report(test_generator.classes, y_pred_VGG16, target_names=target_names))"
      ],
      "execution_count": null,
      "outputs": [
        {
          "output_type": "stream",
          "text": [
            "Downloading data from https://github.com/fchollet/deep-learning-models/releases/download/v0.1/vgg16_weights_tf_dim_ordering_tf_kernels_notop.h5\n",
            "58892288/58889256 [==============================] - 5s 0us/step\n",
            "Found 348 images belonging to 2 classes.\n",
            "Epoch 1/10\n",
            "10/10 [==============================] - 13s 1s/step - loss: 0.6598 - accuracy: 0.6344\n",
            "Epoch 2/10\n",
            "10/10 [==============================] - 12s 1s/step - loss: 0.1496 - accuracy: 0.9715\n",
            "Epoch 3/10\n",
            "10/10 [==============================] - 11s 1s/step - loss: 0.0118 - accuracy: 1.0000\n",
            "Epoch 4/10\n",
            "10/10 [==============================] - 12s 1s/step - loss: 0.0095 - accuracy: 0.9936\n",
            "Epoch 5/10\n",
            "10/10 [==============================] - 11s 1s/step - loss: 0.0034 - accuracy: 0.9968\n",
            "Epoch 6/10\n",
            "10/10 [==============================] - 11s 1s/step - loss: 0.0015 - accuracy: 1.0000\n",
            "Epoch 7/10\n",
            "10/10 [==============================] - 12s 1s/step - loss: 0.0011 - accuracy: 1.0000\n",
            "Epoch 8/10\n",
            "10/10 [==============================] - 11s 1s/step - loss: 1.2495e-04 - accuracy: 1.0000\n",
            "Epoch 9/10\n",
            "10/10 [==============================] - 11s 1s/step - loss: 2.0681e-04 - accuracy: 1.0000\n",
            "Epoch 10/10\n",
            "10/10 [==============================] - 12s 1s/step - loss: 2.9758e-05 - accuracy: 1.0000\n",
            "Found 59 images belonging to 2 classes.\n",
            "2/2 [==============================] - 5s 3s/step\n",
            "Confusion Matrix\n",
            "[[ 6 11]\n",
            " [11 31]]\n",
            "Classification Report\n",
            "              precision    recall  f1-score   support\n",
            "\n",
            "      Normal       0.35      0.35      0.35        17\n",
            "    Positive       0.74      0.74      0.74        42\n",
            "\n",
            "    accuracy                           0.63        59\n",
            "   macro avg       0.55      0.55      0.55        59\n",
            "weighted avg       0.63      0.63      0.63        59\n",
            "\n"
          ],
          "name": "stdout"
        }
      ]
    },
    {
      "cell_type": "markdown",
      "metadata": {
        "id": "2FRJKbTuVrGJ",
        "colab_type": "text"
      },
      "source": [
        "# VGG19"
      ]
    },
    {
      "cell_type": "code",
      "metadata": {
        "id": "DLb0GDQMVsU2",
        "colab_type": "code",
        "colab": {
          "base_uri": "https://localhost:8080/",
          "height": 696
        },
        "outputId": "52420a42-c473-4a6f-bb25-65b5c7fda02a"
      },
      "source": [
        "base_model=VGG19(weights='imagenet',include_top=False) #imports the mobilenet model and discards the last 1000 neuron layer.\n",
        "x1=base_model.output\n",
        "x1=GlobalAveragePooling2D(pool_size=(4,4))(x1)\n",
        "x1=Flatten(name=\"flatten\")(x1)\n",
        "x1=Dense(64,activation='relu')(x1) #we add dense layers so that the model can learn more complex1 functions and classify for better results.\n",
        "x1=Dropout(0.5)(x1)\n",
        "#x1=Dense(1024,activation='relu')(x1) #dense layer 2\n",
        "#x1=Dense(512,activation='relu')(x1) #dense layer 3\n",
        "preds=Dense(2,activation='softmax')(x1) #final layer with softmax activation\n",
        "\n",
        "# x1=base_model.output\n",
        "# x1=GlobalAveragePooling2D()(x1)\n",
        "# x1=Dense(1024,activation='relu')(x1) #we add dense layers so that the model can learn more complex1 functions and classify for better results.\n",
        "# x1=Dense(1024,activation='relu')(x1) #dense layer 2\n",
        "# x1=Dense(512,activation='relu')(x1) #dense layer 3\n",
        "# preds=Dense(2,activation='softmax')(x1) #final layer with softmax activation\n",
        "\n",
        "model=Model(inputs=base_model.input,outputs=preds)\n",
        "#specify the inputs\n",
        "#specify the outputs\n",
        "#now a model has been created based on our architecture\n",
        "\n",
        "for layer in model.layers[:20]:\n",
        "    layer.trainable=False\n",
        "for layer in model.layers[20:]:\n",
        "    layer.trainable=True\n",
        "\n",
        "train_datagen=ImageDataGenerator(preprocessing_function=preprocess_input) #included in our dependencies\n",
        "\n",
        "train_generator=train_datagen.flow_from_directory('/gdrive/My Drive/COVID Dataset/Train/', # this is where you specify the path to the main data folder\n",
        "                                                 target_size=(224,224),\n",
        "                                                 color_mode='rgb',\n",
        "                                                 batch_size=32,\n",
        "                                                 class_mode='categorical',\n",
        "                                                 shuffle=True)\n",
        "model.compile(optimizer='Adam',loss='categorical_crossentropy',metrics=['accuracy'])\n",
        "# Adam optimizer\n",
        "# loss function will be categorical cross entropy\n",
        "# evaluation metric will be accuracy\n",
        "\n",
        "step_size_train=train_generator.n//train_generator.batch_size\n",
        "history=model.fit_generator(generator=train_generator,\n",
        "                   steps_per_epoch=step_size_train,\n",
        "                   epochs=10,verbose=1)\n",
        "test_datagen=ImageDataGenerator(preprocessing_function=preprocess_input) #included in our dependencies\n",
        "\n",
        "test_generator=train_datagen.flow_from_directory('/gdrive/My Drive/COVID Dataset/Test/', # this is where you specify the path to the main data folder\n",
        "                                                 target_size=(224,224),\n",
        "                                                 color_mode='rgb',\n",
        "                                                 batch_size=32,\n",
        "                                                 class_mode='categorical',\n",
        "                                                 shuffle=True)\n",
        "scores=model.evaluate_generator(generator=test_generator,verbose=1)\n",
        "from sklearn.metrics import classification_report, confusion_matrix\n",
        "Y_pred = model.predict_generator(test_generator)\n",
        "y_pred_VGG19 = np.argmax(Y_pred,axis=1)\n",
        "print('Confusion Matrix')\n",
        "print(confusion_matrix(test_generator.classes, y_pred_VGG19))\n",
        "print('Classification Report')\n",
        "target_names = ['Normal', 'Positive']\n",
        "print(classification_report(test_generator.classes, y_pred_VGG19, target_names=target_names))"
      ],
      "execution_count": null,
      "outputs": [
        {
          "output_type": "stream",
          "text": [
            "Downloading data from https://github.com/fchollet/deep-learning-models/releases/download/v0.1/vgg19_weights_tf_dim_ordering_tf_kernels_notop.h5\n",
            "80142336/80134624 [==============================] - 8s 0us/step\n",
            "Found 348 images belonging to 2 classes.\n",
            "Epoch 1/10\n",
            "10/10 [==============================] - 12s 1s/step - loss: 0.5753 - accuracy: 0.7469\n",
            "Epoch 2/10\n",
            "10/10 [==============================] - 12s 1s/step - loss: 0.0779 - accuracy: 0.9652\n",
            "Epoch 3/10\n",
            "10/10 [==============================] - 12s 1s/step - loss: 0.0869 - accuracy: 0.9712\n",
            "Epoch 4/10\n",
            "10/10 [==============================] - 12s 1s/step - loss: 0.0129 - accuracy: 0.9968\n",
            "Epoch 5/10\n",
            "10/10 [==============================] - 11s 1s/step - loss: 0.0067 - accuracy: 0.9968\n",
            "Epoch 6/10\n",
            "10/10 [==============================] - 12s 1s/step - loss: 0.0017 - accuracy: 1.0000\n",
            "Epoch 7/10\n",
            "10/10 [==============================] - 12s 1s/step - loss: 2.0238e-05 - accuracy: 1.0000\n",
            "Epoch 8/10\n",
            "10/10 [==============================] - 12s 1s/step - loss: 5.9193e-05 - accuracy: 1.0000\n",
            "Epoch 9/10\n",
            "10/10 [==============================] - 12s 1s/step - loss: 2.6621e-05 - accuracy: 1.0000\n",
            "Epoch 10/10\n",
            "10/10 [==============================] - 11s 1s/step - loss: 5.0452e-06 - accuracy: 1.0000\n",
            "Found 59 images belonging to 2 classes.\n",
            "2/2 [==============================] - 3s 2s/step\n",
            "Confusion Matrix\n",
            "[[ 3 14]\n",
            " [14 28]]\n",
            "Classification Report\n",
            "              precision    recall  f1-score   support\n",
            "\n",
            "      Normal       0.18      0.18      0.18        17\n",
            "    Positive       0.67      0.67      0.67        42\n",
            "\n",
            "    accuracy                           0.53        59\n",
            "   macro avg       0.42      0.42      0.42        59\n",
            "weighted avg       0.53      0.53      0.53        59\n",
            "\n"
          ],
          "name": "stdout"
        }
      ]
    },
    {
      "cell_type": "markdown",
      "metadata": {
        "id": "-WGA7hO4Vw9k",
        "colab_type": "text"
      },
      "source": [
        "# Xception"
      ]
    },
    {
      "cell_type": "code",
      "metadata": {
        "id": "UnJeNQWqVyyx",
        "colab_type": "code",
        "colab": {
          "base_uri": "https://localhost:8080/",
          "height": 696
        },
        "outputId": "b4992090-3fa6-469c-ec36-9cb010869737"
      },
      "source": [
        "base_model=Xception(weights='imagenet',include_top=False) #imports the mobilenet model and discards the last 1000 neuron layer.\n",
        "x1=base_model.output\n",
        "x1=GlobalAveragePooling2D(pool_size=(4,4))(x1)\n",
        "x1=Flatten(name=\"flatten\")(x1)\n",
        "x1=Dense(64,activation='relu')(x1) #we add dense layers so that the model can learn more complex1 functions and classify for better results.\n",
        "x1=Dropout(0.5)(x1)\n",
        "#x1=Dense(1024,activation='relu')(x1) #dense layer 2\n",
        "#x1=Dense(512,activation='relu')(x1) #dense layer 3\n",
        "preds=Dense(2,activation='softmax')(x1) #final layer with softmax activation\n",
        "\n",
        "# x1=base_model.output\n",
        "# x1=GlobalAveragePooling2D()(x1)\n",
        "# x1=Dense(1024,activation='relu')(x1) #we add dense layers so that the model can learn more complex1 functions and classify for better results.\n",
        "# x1=Dense(1024,activation='relu')(x1) #dense layer 2\n",
        "# x1=Dense(512,activation='relu')(x1) #dense layer 3\n",
        "# preds=Dense(2,activation='softmax')(x1) #final layer with softmax activation\n",
        "\n",
        "model=Model(inputs=base_model.input,outputs=preds)\n",
        "#specify the inputs\n",
        "#specify the outputs\n",
        "#now a model has been created based on our architecture\n",
        "\n",
        "for layer in model.layers[:20]:\n",
        "    layer.trainable=False\n",
        "for layer in model.layers[20:]:\n",
        "    layer.trainable=True\n",
        "\n",
        "train_datagen=ImageDataGenerator(preprocessing_function=preprocess_input) #included in our dependencies\n",
        "\n",
        "train_generator=train_datagen.flow_from_directory('/gdrive/My Drive/COVID Dataset/Train/', # this is where you specify the path to the main data folder\n",
        "                                                 target_size=(224,224),\n",
        "                                                 color_mode='rgb',\n",
        "                                                 batch_size=32,\n",
        "                                                 class_mode='categorical',\n",
        "                                                 shuffle=True)\n",
        "model.compile(optimizer='Adam',loss='categorical_crossentropy',metrics=['accuracy'])\n",
        "# Adam optimizer\n",
        "# loss function will be categorical cross entropy\n",
        "# evaluation metric will be accuracy\n",
        "\n",
        "step_size_train=train_generator.n//train_generator.batch_size\n",
        "history=model.fit_generator(generator=train_generator,\n",
        "                   steps_per_epoch=step_size_train,\n",
        "                   epochs=10,verbose=1)\n",
        "test_datagen=ImageDataGenerator(preprocessing_function=preprocess_input) #included in our dependencies\n",
        "\n",
        "test_generator=train_datagen.flow_from_directory('/gdrive/My Drive/COVID Dataset/Test/', # this is where you specify the path to the main data folder\n",
        "                                                 target_size=(224,224),\n",
        "                                                 color_mode='rgb',\n",
        "                                                 batch_size=32,\n",
        "                                                 class_mode='categorical',\n",
        "                                                 shuffle=True)\n",
        "scores=model.evaluate_generator(generator=test_generator,verbose=1)\n",
        "from sklearn.metrics import classification_report, confusion_matrix\n",
        "Y_pred = model.predict_generator(test_generator)\n",
        "y_pred_Xception = np.argmax(Y_pred,axis=1)\n",
        "print('Confusion Matrix')\n",
        "print(confusion_matrix(test_generator.classes, y_pred_Xception))\n",
        "print('Classification Report')\n",
        "target_names = ['Normal', 'Positive']\n",
        "print(classification_report(test_generator.classes, y_pred_Xception, target_names=target_names))"
      ],
      "execution_count": null,
      "outputs": [
        {
          "output_type": "stream",
          "text": [
            "Downloading data from https://github.com/fchollet/deep-learning-models/releases/download/v0.4/xception_weights_tf_dim_ordering_tf_kernels_notop.h5\n",
            "83689472/83683744 [==============================] - 7s 0us/step\n",
            "Found 348 images belonging to 2 classes.\n",
            "Epoch 1/10\n",
            "10/10 [==============================] - 33s 3s/step - loss: 0.4412 - accuracy: 0.8133\n",
            "Epoch 2/10\n",
            "10/10 [==============================] - 15s 1s/step - loss: 0.0650 - accuracy: 0.9842\n",
            "Epoch 3/10\n",
            "10/10 [==============================] - 14s 1s/step - loss: 0.3588 - accuracy: 0.9778\n",
            "Epoch 4/10\n",
            "10/10 [==============================] - 16s 2s/step - loss: 0.0572 - accuracy: 1.0000\n",
            "Epoch 5/10\n",
            "10/10 [==============================] - 15s 2s/step - loss: 0.1199 - accuracy: 0.9905\n",
            "Epoch 6/10\n",
            "10/10 [==============================] - 15s 2s/step - loss: 0.0166 - accuracy: 0.9968\n",
            "Epoch 7/10\n",
            "10/10 [==============================] - 15s 2s/step - loss: 0.0167 - accuracy: 1.0000\n",
            "Epoch 8/10\n",
            "10/10 [==============================] - 15s 1s/step - loss: 0.0012 - accuracy: 1.0000\n",
            "Epoch 9/10\n",
            "10/10 [==============================] - 16s 2s/step - loss: 5.8082e-04 - accuracy: 1.0000\n",
            "Epoch 10/10\n",
            "10/10 [==============================] - 15s 1s/step - loss: 5.5349e-05 - accuracy: 1.0000\n",
            "Found 59 images belonging to 2 classes.\n",
            "2/2 [==============================] - 5s 2s/step\n",
            "Confusion Matrix\n",
            "[[ 5 12]\n",
            " [11 31]]\n",
            "Classification Report\n",
            "              precision    recall  f1-score   support\n",
            "\n",
            "      Normal       0.31      0.29      0.30        17\n",
            "    Positive       0.72      0.74      0.73        42\n",
            "\n",
            "    accuracy                           0.61        59\n",
            "   macro avg       0.52      0.52      0.52        59\n",
            "weighted avg       0.60      0.61      0.61        59\n",
            "\n"
          ],
          "name": "stdout"
        }
      ]
    },
    {
      "cell_type": "code",
      "metadata": {
        "id": "WTw-vPh8T4GG",
        "colab_type": "code",
        "colab": {}
      },
      "source": [
        "import pandas as pd\n",
        "Y_pred=pd.DataFrame({\n",
        "    'DenseNet201':y_pred_DenseNet201,\n",
        "    'InceptionResNetV2':y_pred_InceptionResNetV2,\n",
        "    'InceptionV3':y_pred_InceptionV3,\n",
        "    'MobileNet':y_pred_MobileNet,\n",
        "    'MobileNetV2':y_pred_MobileNetV2,\n",
        "    'NASNetMobile':y_pred_NASNetMobile,\n",
        "    'ResNet101':y_pred_ResNet101,\n",
        "    'VGG16':y_pred_VGG16,\n",
        "    'VGG19':y_pred_VGG19,\n",
        "    'Xception':y_pred_Xception,\n",
        "})"
      ],
      "execution_count": null,
      "outputs": []
    },
    {
      "cell_type": "code",
      "metadata": {
        "id": "2rtOjZLMCh69",
        "colab_type": "code",
        "colab": {}
      },
      "source": [
        "Y_pred.to_csv(\"Predictions.csv\")"
      ],
      "execution_count": null,
      "outputs": []
    },
    {
      "cell_type": "code",
      "metadata": {
        "id": "qwfzFwVdDDU1",
        "colab_type": "code",
        "colab": {
          "base_uri": "https://localhost:8080/",
          "height": 375
        },
        "outputId": "b6ac6c28-942d-42e2-c22f-22d69e965dfc"
      },
      "source": [
        "Y_pred.corr()"
      ],
      "execution_count": null,
      "outputs": [
        {
          "output_type": "execute_result",
          "data": {
            "text/html": [
              "<div>\n",
              "<style scoped>\n",
              "    .dataframe tbody tr th:only-of-type {\n",
              "        vertical-align: middle;\n",
              "    }\n",
              "\n",
              "    .dataframe tbody tr th {\n",
              "        vertical-align: top;\n",
              "    }\n",
              "\n",
              "    .dataframe thead th {\n",
              "        text-align: right;\n",
              "    }\n",
              "</style>\n",
              "<table border=\"1\" class=\"dataframe\">\n",
              "  <thead>\n",
              "    <tr style=\"text-align: right;\">\n",
              "      <th></th>\n",
              "      <th>DenseNet201</th>\n",
              "      <th>InceptionResNetV2</th>\n",
              "      <th>InceptionV3</th>\n",
              "      <th>MobileNet</th>\n",
              "      <th>MobileNetV2</th>\n",
              "      <th>NASNetMobile</th>\n",
              "      <th>ResNet101</th>\n",
              "      <th>VGG16</th>\n",
              "      <th>VGG19</th>\n",
              "      <th>Xception</th>\n",
              "    </tr>\n",
              "  </thead>\n",
              "  <tbody>\n",
              "    <tr>\n",
              "      <th>DenseNet201</th>\n",
              "      <td>1.000000</td>\n",
              "      <td>-0.015404</td>\n",
              "      <td>-0.015404</td>\n",
              "      <td>-0.091138</td>\n",
              "      <td>-0.179307</td>\n",
              "      <td>0.112594</td>\n",
              "      <td>NaN</td>\n",
              "      <td>-0.091138</td>\n",
              "      <td>-0.242607</td>\n",
              "      <td>-0.137305</td>\n",
              "    </tr>\n",
              "    <tr>\n",
              "      <th>InceptionResNetV2</th>\n",
              "      <td>-0.015404</td>\n",
              "      <td>1.000000</td>\n",
              "      <td>-0.074230</td>\n",
              "      <td>0.091036</td>\n",
              "      <td>0.097820</td>\n",
              "      <td>0.083538</td>\n",
              "      <td>NaN</td>\n",
              "      <td>0.008403</td>\n",
              "      <td>0.091036</td>\n",
              "      <td>0.032816</td>\n",
              "    </tr>\n",
              "    <tr>\n",
              "      <th>InceptionV3</th>\n",
              "      <td>-0.015404</td>\n",
              "      <td>-0.074230</td>\n",
              "      <td>1.000000</td>\n",
              "      <td>-0.074230</td>\n",
              "      <td>0.097820</td>\n",
              "      <td>-0.206389</td>\n",
              "      <td>NaN</td>\n",
              "      <td>-0.074230</td>\n",
              "      <td>0.173669</td>\n",
              "      <td>0.032816</td>\n",
              "    </tr>\n",
              "    <tr>\n",
              "      <th>MobileNet</th>\n",
              "      <td>-0.091138</td>\n",
              "      <td>0.091036</td>\n",
              "      <td>-0.074230</td>\n",
              "      <td>1.000000</td>\n",
              "      <td>-0.139360</td>\n",
              "      <td>0.083538</td>\n",
              "      <td>NaN</td>\n",
              "      <td>-0.074230</td>\n",
              "      <td>0.173669</td>\n",
              "      <td>0.116996</td>\n",
              "    </tr>\n",
              "    <tr>\n",
              "      <th>MobileNetV2</th>\n",
              "      <td>-0.179307</td>\n",
              "      <td>0.097820</td>\n",
              "      <td>0.097820</td>\n",
              "      <td>-0.139360</td>\n",
              "      <td>1.000000</td>\n",
              "      <td>-0.183359</td>\n",
              "      <td>NaN</td>\n",
              "      <td>0.097820</td>\n",
              "      <td>-0.060300</td>\n",
              "      <td>0.046413</td>\n",
              "    </tr>\n",
              "    <tr>\n",
              "      <th>NASNetMobile</th>\n",
              "      <td>0.112594</td>\n",
              "      <td>0.083538</td>\n",
              "      <td>-0.206389</td>\n",
              "      <td>0.083538</td>\n",
              "      <td>-0.183359</td>\n",
              "      <td>1.000000</td>\n",
              "      <td>NaN</td>\n",
              "      <td>0.083538</td>\n",
              "      <td>0.083538</td>\n",
              "      <td>0.080096</td>\n",
              "    </tr>\n",
              "    <tr>\n",
              "      <th>ResNet101</th>\n",
              "      <td>NaN</td>\n",
              "      <td>NaN</td>\n",
              "      <td>NaN</td>\n",
              "      <td>NaN</td>\n",
              "      <td>NaN</td>\n",
              "      <td>NaN</td>\n",
              "      <td>NaN</td>\n",
              "      <td>NaN</td>\n",
              "      <td>NaN</td>\n",
              "      <td>NaN</td>\n",
              "    </tr>\n",
              "    <tr>\n",
              "      <th>VGG16</th>\n",
              "      <td>-0.091138</td>\n",
              "      <td>0.008403</td>\n",
              "      <td>-0.074230</td>\n",
              "      <td>-0.074230</td>\n",
              "      <td>0.097820</td>\n",
              "      <td>0.083538</td>\n",
              "      <td>NaN</td>\n",
              "      <td>1.000000</td>\n",
              "      <td>0.256303</td>\n",
              "      <td>-0.051364</td>\n",
              "    </tr>\n",
              "    <tr>\n",
              "      <th>VGG19</th>\n",
              "      <td>-0.242607</td>\n",
              "      <td>0.091036</td>\n",
              "      <td>0.173669</td>\n",
              "      <td>0.173669</td>\n",
              "      <td>-0.060300</td>\n",
              "      <td>0.083538</td>\n",
              "      <td>NaN</td>\n",
              "      <td>0.256303</td>\n",
              "      <td>1.000000</td>\n",
              "      <td>-0.219724</td>\n",
              "    </tr>\n",
              "    <tr>\n",
              "      <th>Xception</th>\n",
              "      <td>-0.137305</td>\n",
              "      <td>0.032816</td>\n",
              "      <td>0.032816</td>\n",
              "      <td>0.116996</td>\n",
              "      <td>0.046413</td>\n",
              "      <td>0.080096</td>\n",
              "      <td>NaN</td>\n",
              "      <td>-0.051364</td>\n",
              "      <td>-0.219724</td>\n",
              "      <td>1.000000</td>\n",
              "    </tr>\n",
              "  </tbody>\n",
              "</table>\n",
              "</div>"
            ],
            "text/plain": [
              "                   DenseNet201  InceptionResNetV2  ...     VGG19  Xception\n",
              "DenseNet201           1.000000          -0.015404  ... -0.242607 -0.137305\n",
              "InceptionResNetV2    -0.015404           1.000000  ...  0.091036  0.032816\n",
              "InceptionV3          -0.015404          -0.074230  ...  0.173669  0.032816\n",
              "MobileNet            -0.091138           0.091036  ...  0.173669  0.116996\n",
              "MobileNetV2          -0.179307           0.097820  ... -0.060300  0.046413\n",
              "NASNetMobile          0.112594           0.083538  ...  0.083538  0.080096\n",
              "ResNet101                  NaN                NaN  ...       NaN       NaN\n",
              "VGG16                -0.091138           0.008403  ...  0.256303 -0.051364\n",
              "VGG19                -0.242607           0.091036  ...  1.000000 -0.219724\n",
              "Xception             -0.137305           0.032816  ... -0.219724  1.000000\n",
              "\n",
              "[10 rows x 10 columns]"
            ]
          },
          "metadata": {
            "tags": []
          },
          "execution_count": 35
        }
      ]
    },
    {
      "cell_type": "code",
      "metadata": {
        "id": "sdilPbbGESX2",
        "colab_type": "code",
        "colab": {}
      },
      "source": [
        "Y_corr=Y_pred.corr()\n",
        "Y_corr.to_csv(\"Correlation.csv\")"
      ],
      "execution_count": null,
      "outputs": []
    },
    {
      "cell_type": "code",
      "metadata": {
        "id": "CfjPb5X0IStf",
        "colab_type": "code",
        "colab": {}
      },
      "source": [
        ""
      ],
      "execution_count": null,
      "outputs": []
    }
  ]
}